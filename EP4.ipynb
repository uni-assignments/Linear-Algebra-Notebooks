{
 "cells": [
  {
   "cell_type": "markdown",
   "metadata": {
    "id": "settled-diversity"
   },
   "source": [
    "# Exercício de Programação 4\n",
    "\n",
    "<font color=\"red\">**Prazo de submissão: 23:55 do dia 01.03.2021** </font>\n",
    "\n",
    "2020.2 Álgebra Linear Computacional - DCC - UFMG\n",
    "\n",
    "Erickson - Fabricio\n",
    "\n",
    "Instruções:\n",
    "* Antes de submeter suas soluções, certifique-se de que tudo roda como esperado. Primeiro, **reinicie o kernel** no menu, selecione Kernel$\\rightarrow$Restart e então execute **todas as células** (no menu, Cell$\\rightarrow$Run All)\n",
    "* Apenas o arquivo .ipynb deve ser submetido. Ele não deve ser compactado.\n",
    "* Não deixe de preencher seu nome e número de matrícula na célula a seguir"
   ]
  },
  {
   "cell_type": "markdown",
   "metadata": {
    "id": "rational-architecture"
   },
   "source": [
    "**Nome do aluno:** Rita Rezende Borges de Lima\n",
    "\n",
    "**Matricula:** 2020065317"
   ]
  },
  {
   "cell_type": "markdown",
   "metadata": {
    "id": "committed-lecture"
   },
   "source": [
    "## Introdução\n",
    "Esse EP será dividido em 3 partes:\n",
    "1. PCA\n",
    "2. Regressão Linear Simples\n",
    "3. Regressão Múltipla\n",
    "\n",
    "Os conceitos cobrados aqui são discutidos nas aulas que abrangem o conteúdo de cada parte e elas devem ser a principal fonte de consulta para suas soluções.\n",
    "\n",
    "Para as três partes, iremos trabalhar com um dataset (já disponível aqui no código) que contém os preços de imóveis do [Condado de King](https://pt.wikipedia.org/wiki/Condado_de_King_(Washington)) (Washington, EUA). O objetivo desse exercício é utilizar das técnicas aprendidas em aula para prever os preços imobiliários do condado através das características dos imóveis."
   ]
  },
  {
   "cell_type": "code",
   "execution_count": 1,
   "metadata": {
    "colab": {
     "base_uri": "https://localhost:8080/",
     "height": 34
    },
    "executionInfo": {
     "elapsed": 1856,
     "status": "ok",
     "timestamp": 1612903474155,
     "user": {
      "displayName": "Jackson Junior",
      "photoUrl": "",
      "userId": "16895407633732577357"
     },
     "user_tz": 180
    },
    "id": "limiting-sterling",
    "outputId": "f6fd43a9-7753-4d68-d718-78e2e43cd6f6"
   },
   "outputs": [],
   "source": [
    "# ATENÇÃO: Não editar esta célula\n",
    "\n",
    "############### Write code below ##################\n",
    "import numpy as np\n",
    "data = np.array([[2.2190e+05, 3.0000e+00, 1.0000e+00, 1.1800e+03, 5.6500e+03,\n",
    "        1.0000e+00, 3.0000e+00, 7.0000e+00, 1.1800e+03, 1.9550e+03,\n",
    "        1.3400e+03, 5.6500e+03],\n",
    "       [5.3800e+05, 3.0000e+00, 2.2500e+00, 2.5700e+03, 7.2420e+03,\n",
    "        2.0000e+00, 3.0000e+00, 7.0000e+00, 2.1700e+03, 1.9510e+03,\n",
    "        1.6900e+03, 7.6390e+03],\n",
    "       [1.8000e+05, 2.0000e+00, 1.0000e+00, 7.7000e+02, 1.0000e+04,\n",
    "        1.0000e+00, 3.0000e+00, 6.0000e+00, 7.7000e+02, 1.9330e+03,\n",
    "        2.7200e+03, 8.0620e+03],\n",
    "       [6.0400e+05, 4.0000e+00, 3.0000e+00, 1.9600e+03, 5.0000e+03,\n",
    "        1.0000e+00, 5.0000e+00, 7.0000e+00, 1.0500e+03, 1.9650e+03,\n",
    "        1.3600e+03, 5.0000e+03],\n",
    "       [5.1000e+05, 3.0000e+00, 2.0000e+00, 1.6800e+03, 8.0800e+03,\n",
    "        1.0000e+00, 3.0000e+00, 8.0000e+00, 1.6800e+03, 1.9870e+03,\n",
    "        1.8000e+03, 7.5030e+03],\n",
    "       [2.5750e+05, 3.0000e+00, 2.2500e+00, 1.7150e+03, 6.8190e+03,\n",
    "        2.0000e+00, 3.0000e+00, 7.0000e+00, 1.7150e+03, 1.9950e+03,\n",
    "        2.2380e+03, 6.8190e+03],\n",
    "       [2.9185e+05, 3.0000e+00, 1.5000e+00, 1.0600e+03, 9.7110e+03,\n",
    "        1.0000e+00, 3.0000e+00, 7.0000e+00, 1.0600e+03, 1.9630e+03,\n",
    "        1.6500e+03, 9.7110e+03],\n",
    "       [2.2950e+05, 3.0000e+00, 1.0000e+00, 1.7800e+03, 7.4700e+03,\n",
    "        1.0000e+00, 3.0000e+00, 7.0000e+00, 1.0500e+03, 1.9600e+03,\n",
    "        1.7800e+03, 8.1130e+03],\n",
    "       [3.2300e+05, 3.0000e+00, 2.5000e+00, 1.8900e+03, 6.5600e+03,\n",
    "        2.0000e+00, 3.0000e+00, 7.0000e+00, 1.8900e+03, 2.0030e+03,\n",
    "        2.3900e+03, 7.5700e+03],\n",
    "       [6.6250e+05, 3.0000e+00, 2.5000e+00, 3.5600e+03, 9.7960e+03,\n",
    "        1.0000e+00, 3.0000e+00, 8.0000e+00, 1.8600e+03, 1.9650e+03,\n",
    "        2.2100e+03, 8.9250e+03],\n",
    "       [4.6800e+05, 2.0000e+00, 1.0000e+00, 1.1600e+03, 6.0000e+03,\n",
    "        1.0000e+00, 4.0000e+00, 7.0000e+00, 8.6000e+02, 1.9420e+03,\n",
    "        1.3300e+03, 6.0000e+03],\n",
    "       [3.1000e+05, 3.0000e+00, 1.0000e+00, 1.4300e+03, 1.9901e+04,\n",
    "        1.5000e+00, 4.0000e+00, 7.0000e+00, 1.4300e+03, 1.9270e+03,\n",
    "        1.7800e+03, 1.2697e+04],\n",
    "       [4.0000e+05, 3.0000e+00, 1.7500e+00, 1.3700e+03, 9.6800e+03,\n",
    "        1.0000e+00, 4.0000e+00, 7.0000e+00, 1.3700e+03, 1.9770e+03,\n",
    "        1.3700e+03, 1.0208e+04],\n",
    "       [5.3000e+05, 5.0000e+00, 2.0000e+00, 1.8100e+03, 4.8500e+03,\n",
    "        1.5000e+00, 3.0000e+00, 7.0000e+00, 1.8100e+03, 1.9000e+03,\n",
    "        1.3600e+03, 4.8500e+03],\n",
    "       [6.5000e+05, 4.0000e+00, 3.0000e+00, 2.9500e+03, 5.0000e+03,\n",
    "        2.0000e+00, 3.0000e+00, 9.0000e+00, 1.9800e+03, 1.9790e+03,\n",
    "        2.1400e+03, 4.0000e+03],\n",
    "       [3.9500e+05, 3.0000e+00, 2.0000e+00, 1.8900e+03, 1.4040e+04,\n",
    "        2.0000e+00, 3.0000e+00, 7.0000e+00, 1.8900e+03, 1.9940e+03,\n",
    "        1.8900e+03, 1.4018e+04],\n",
    "       [4.8500e+05, 4.0000e+00, 1.0000e+00, 1.6000e+03, 4.3000e+03,\n",
    "        1.5000e+00, 4.0000e+00, 7.0000e+00, 1.6000e+03, 1.9160e+03,\n",
    "        1.6100e+03, 4.3000e+03],\n",
    "       [1.8900e+05, 2.0000e+00, 1.0000e+00, 1.2000e+03, 9.8500e+03,\n",
    "        1.0000e+00, 4.0000e+00, 7.0000e+00, 1.2000e+03, 1.9210e+03,\n",
    "        1.0600e+03, 5.0950e+03],\n",
    "       [2.3000e+05, 3.0000e+00, 1.0000e+00, 1.2500e+03, 9.7740e+03,\n",
    "        1.0000e+00, 4.0000e+00, 7.0000e+00, 1.2500e+03, 1.9690e+03,\n",
    "        1.2800e+03, 8.8500e+03],\n",
    "       [3.8500e+05, 4.0000e+00, 1.7500e+00, 1.6200e+03, 4.9800e+03,\n",
    "        1.0000e+00, 4.0000e+00, 7.0000e+00, 8.6000e+02, 1.9470e+03,\n",
    "        1.4000e+03, 4.9800e+03],\n",
    "       [2.8500e+05, 5.0000e+00, 2.5000e+00, 2.2700e+03, 6.3000e+03,\n",
    "        2.0000e+00, 3.0000e+00, 8.0000e+00, 2.2700e+03, 1.9950e+03,\n",
    "        2.2400e+03, 7.0050e+03],\n",
    "       [2.5270e+05, 2.0000e+00, 1.5000e+00, 1.0700e+03, 9.6430e+03,\n",
    "        1.0000e+00, 3.0000e+00, 7.0000e+00, 1.0700e+03, 1.9850e+03,\n",
    "        1.2200e+03, 8.3860e+03],\n",
    "       [3.2900e+05, 3.0000e+00, 2.2500e+00, 2.4500e+03, 6.5000e+03,\n",
    "        2.0000e+00, 4.0000e+00, 8.0000e+00, 2.4500e+03, 1.9850e+03,\n",
    "        2.2000e+03, 6.8650e+03],\n",
    "       [2.3300e+05, 3.0000e+00, 2.0000e+00, 1.7100e+03, 4.6970e+03,\n",
    "        1.5000e+00, 5.0000e+00, 6.0000e+00, 1.7100e+03, 1.9410e+03,\n",
    "        1.0300e+03, 4.7050e+03],\n",
    "       [6.6700e+05, 3.0000e+00, 1.0000e+00, 1.4000e+03, 1.5810e+03,\n",
    "        1.5000e+00, 5.0000e+00, 8.0000e+00, 1.4000e+03, 1.9090e+03,\n",
    "        1.8600e+03, 3.8610e+03],\n",
    "       [4.3800e+05, 3.0000e+00, 1.7500e+00, 1.5200e+03, 6.3800e+03,\n",
    "        1.0000e+00, 3.0000e+00, 7.0000e+00, 7.9000e+02, 1.9480e+03,\n",
    "        1.5200e+03, 6.2350e+03]])"
   ]
  },
  {
   "cell_type": "code",
   "execution_count": 2,
   "metadata": {
    "id": "lesbian-intent"
   },
   "outputs": [],
   "source": [
    "import matplotlib.pyplot as plt"
   ]
  },
  {
   "cell_type": "markdown",
   "metadata": {
    "id": "computational-birth"
   },
   "source": [
    "### Questão 1 - PCA\n"
   ]
  },
  {
   "cell_type": "markdown",
   "metadata": {
    "id": "itffvRYMizM_"
   },
   "source": [
    "Nessa primeira parte, vamos implementar o algoritmo do PCA como foi descrito nas aulas. O primeiro passo é obter a matriz $X$ da mesma forma como é usado na aula, em que cada linha linha é um atributo (variável), e cada coluna é uma instância de dados. \n",
    "\n",
    "**1.1.1** Como a matriz **data** definida acima está com os valores na forma transposta a essa (instâncias nas linhas e atributos nas colunas), então podemos obter **X** a partir de **data** usando o seu transposto."
   ]
  },
  {
   "cell_type": "code",
   "execution_count": 3,
   "metadata": {
    "colab": {
     "base_uri": "https://localhost:8080/"
    },
    "executionInfo": {
     "elapsed": 768,
     "status": "ok",
     "timestamp": 1612904240727,
     "user": {
      "displayName": "Jackson Junior",
      "photoUrl": "",
      "userId": "16895407633732577357"
     },
     "user_tz": 180
    },
    "id": "4ckXBj9JhBlM",
    "outputId": "4b3db4cc-032a-4846-f653-b6b74c2345fc"
   },
   "outputs": [
    {
     "output_type": "stream",
     "name": "stdout",
     "text": [
      "(12, 26)\n"
     ]
    }
   ],
   "source": [
    "# ATENÇÃO: Não editar esta célula\n",
    "X = data.T\n",
    "n, m = X.shape\n",
    "print(X.shape)"
   ]
  },
  {
   "cell_type": "markdown",
   "metadata": {
    "id": "p-8x7-bAla2h"
   },
   "source": [
    "O próximo passo agora é fazer a **z-normalização** como é descrito em [aula](https://youtu.be/hlaLh-chsyE?t=1415). Para isso, podemos seguir os 4 passos que são sugeridos em aula:\n",
    "\n",
    "1. Calcular a média $\\mu$ de cada atributo (linha) de **X**.\n",
    "1. Subtrair de cada valor de **X** a média da linha correspondente.\n",
    "1. Calcular a variância de cada linha de **X**.\n",
    "1. Dividir cada valor de **X** pelo desvio padrão (obtido a partir da variância) da linha correspondente."
   ]
  },
  {
   "cell_type": "markdown",
   "metadata": {
    "id": "h_ZBCsZLnmXk"
   },
   "source": [
    "**1.1.2** Então, primeiramente vamos calcular a média $\\mu$ das linhas de **X**:\n",
    "\n",
    "$$\\mu = \\frac{1}{m} \\sum_{i=1}^{m} \\textbf{x}^{(i)}$$\n",
    "\n",
    "Podemos fazer isso facilmente no `numpy`, considerando a média ao longo da dimensão dos atributos na matriz $X$. Para isso podemos usar [`np.mean`](https://numpy.org/doc/stable/reference/generated/numpy.mean.html), especificando o valor correto do parâmetro `axis`. Note que o resultado $\\mu$ é um vetor coluna de tamanho 12. Calcule esse vetor $\\mu$ a seguir e guarde o resultado em uma variável **mu**."
   ]
  },
  {
   "cell_type": "code",
   "execution_count": 4,
   "metadata": {
    "colab": {
     "base_uri": "https://localhost:8080/"
    },
    "executionInfo": {
     "elapsed": 799,
     "status": "ok",
     "timestamp": 1612904887851,
     "user": {
      "displayName": "Jackson Junior",
      "photoUrl": "",
      "userId": "16895407633732577357"
     },
     "user_tz": 180
    },
    "id": "Xba2RhWLlZuq",
    "outputId": "3df9b25c-02c9-47be-965f-8bfac735f85b"
   },
   "outputs": [
    {
     "output_type": "execute_result",
     "data": {
      "text/plain": [
       "array([[3.87113462e+05],\n",
       "       [3.15384615e+00],\n",
       "       [1.75000000e+00],\n",
       "       [1.72557692e+03],\n",
       "       [7.68476923e+03],\n",
       "       [1.36538462e+00],\n",
       "       [3.53846154e+00],\n",
       "       [7.19230769e+00],\n",
       "       [1.47557692e+03],\n",
       "       [1.95815385e+03],\n",
       "       [1.71030769e+03],\n",
       "       [7.19411538e+03]])"
      ]
     },
     "metadata": {},
     "execution_count": 4
    }
   ],
   "source": [
    "# Insira seu código aqui\n",
    "mu = np.mean(X, axis = 1).reshape(n,1)\n",
    "mu"
   ]
  },
  {
   "cell_type": "markdown",
   "metadata": {
    "id": "pV7TJX-Qn43E"
   },
   "source": [
    "**1.1.3** Agora que calculamos $\\mu$ podemos centralizar os dados com essa média. Para isso, basta subtratir cada coluna de **X** (cada observação) por essa média:\n",
    "\n",
    "$$\\textbf{x}^{(i)} = \\textbf{x}^{(i)} - \\mu$$\n",
    "\n",
    " Isso pode ser feito através do uso de *broadcasting*, em que o cálculo pode ser feito apenas por uma operação. Calcule essa operação a seguir e salve a matriz resultante numa variável **X_mc**."
   ]
  },
  {
   "cell_type": "code",
   "execution_count": 33,
   "metadata": {
    "colab": {
     "base_uri": "https://localhost:8080/"
    },
    "executionInfo": {
     "elapsed": 657,
     "status": "ok",
     "timestamp": 1612904916757,
     "user": {
      "displayName": "Jackson Junior",
      "photoUrl": "",
      "userId": "16895407633732577357"
     },
     "user_tz": 180
    },
    "id": "tkziI-02n8Vk",
    "outputId": "95d50f84-2784-45f7-a5f1-edbcba8d4a76"
   },
   "outputs": [],
   "source": [
    "# Insira seu código aqui\n",
    "X_mc = X - mu \n"
   ]
  },
  {
   "cell_type": "markdown",
   "metadata": {
    "id": "w-Aj6W_upliO"
   },
   "source": [
    "**1.1.4** O próximo passo então é o cálculo da variância de cada linha (variável) de **X**. Como os valores já estão centralizados na média, então para isso basta calcular o quadrado de cada valor na matriz e somar os valores ao longo das linhas, e depois dividir por $m - 1$:\n",
    "\n",
    "$$\\sigma_j^2 = \\frac{1}{m - 1} \\sum_{i=1}^{m} ( \\textbf{x}_j^{(i)} )^2$$\n",
    "\n",
    "Assim como a média $\\mu$, o resultado dessa operação é um vetor coluna $\\sigma^2$, de tamanho 12. Calcule esse vetor a seguir e salve na variável **var**."
   ]
  },
  {
   "cell_type": "code",
   "execution_count": 39,
   "metadata": {
    "colab": {
     "base_uri": "https://localhost:8080/"
    },
    "executionInfo": {
     "elapsed": 617,
     "status": "ok",
     "timestamp": 1612905855470,
     "user": {
      "displayName": "Jackson Junior",
      "photoUrl": "",
      "userId": "16895407633732577357"
     },
     "user_tz": 180
    },
    "id": "BiiM1QzRrEbk",
    "outputId": "d135a7f1-1518-4bfb-bdc1-ca42735507cd"
   },
   "outputs": [
    {
     "output_type": "execute_result",
     "data": {
      "text/plain": [
       "array([[2.39230175e+10],\n",
       "       [6.15384615e-01],\n",
       "       [4.40000000e-01],\n",
       "       [3.92596654e+05],\n",
       "       [1.28895891e+07],\n",
       "       [1.91153846e-01],\n",
       "       [4.98461538e-01],\n",
       "       [4.01538462e-01],\n",
       "       [2.29928654e+05],\n",
       "       [8.28615385e+02],\n",
       "       [1.95519262e+05],\n",
       "       [6.47888755e+06]])"
      ]
     },
     "metadata": {},
     "execution_count": 39
    }
   ],
   "source": [
    "# Insira seu código aqui\n",
    "var = ((X_mc**2).sum(axis = 1).reshape(12,1))/(m - 1)\n",
    "var"
   ]
  },
  {
   "cell_type": "markdown",
   "metadata": {
    "id": "axVI89qprke9"
   },
   "source": [
    "**1.1.5** Agora que possuímos as variâncias de cada linha, podemos dividir cada observação de **X** pelo desvio padrão:\n",
    "\n",
    "$$x_j^{(i)} = x_j^{(i)} / \\sigma_j$$\n",
    "\n",
    "Primeiramente precisamos obter o vetor com os desvios padrão de cada linha $\\sigma$, que pode ser obtido simplesmente tomando a raíz quadrada de cada valor no vetor de variâncias $\\sigma^2$. Para isso podemos usar o [`numpy.sqrt`](https://numpy.org/doc/stable/reference/generated/numpy.sqrt.html). Depois disso, usamos o desvio padrão para dividir cada coluna de **X**. Note que assim como fizemos com a média, essa pode ser feita por *broadcasting* com apenas uma operação. Faça essa operação a seguir, salvando o vetor de desvios padrão numa variável **desvio_pad** e a matriz resultante da normalização em uma variável **Xz**."
   ]
  },
  {
   "cell_type": "code",
   "execution_count": 40,
   "metadata": {
    "colab": {
     "base_uri": "https://localhost:8080/"
    },
    "executionInfo": {
     "elapsed": 692,
     "status": "ok",
     "timestamp": 1612906591445,
     "user": {
      "displayName": "Jackson Junior",
      "photoUrl": "",
      "userId": "16895407633732577357"
     },
     "user_tz": 180
    },
    "id": "6THAUqKrtwqQ",
    "outputId": "b474b8fd-d581-40f4-dc46-70bae48fa5f7"
   },
   "outputs": [],
   "source": [
    "# Insira seu código aqui\n",
    "desvio_pad = np.sqrt(var)\n",
    "Xz = np.divide(X_mc, desvio_pad)\n",
    "desvio_pad = desvio_pad.reshape(12,1)\n"
   ]
  },
  {
   "cell_type": "markdown",
   "metadata": {
    "id": "0O_1QSKVuwbp"
   },
   "source": [
    "Agora que ja obtemos a matriz **X** z-normalizada, podemos partir para a implementação passo-a-passo do PCA, como foi descrito em [aula](https://youtu.be/UCuKFbxvRT4?t=1487). Note que, da forma como foi descrito na aula, nossa matriz já está na forma correta: linhas = atributos, e colunas = observações (ou instâncias). Porém, vale lembrar que para algumas implementações já prontas do PCA, pode ser que a forma requisitada seja o transposto.\n",
    "\n"
   ]
  },
  {
   "cell_type": "markdown",
   "metadata": {
    "id": "U8Wusco4v-gp"
   },
   "source": [
    "**1.2.1** Primeiramente, vamos obter a matriz de covariância **S** que é obtida a partir de **X**:\n",
    "\n",
    "$$S = X X^\\top$$\n",
    "\n",
    "Isso pode ser feito usando uma multiplicação de matrizes padrão. Faça essa operação a seguir, salvando a matriz numa variável **S**:"
   ]
  },
  {
   "cell_type": "code",
   "execution_count": 14,
   "metadata": {
    "colab": {
     "base_uri": "https://localhost:8080/"
    },
    "executionInfo": {
     "elapsed": 627,
     "status": "ok",
     "timestamp": 1612907178613,
     "user": {
      "displayName": "Jackson Junior",
      "photoUrl": "",
      "userId": "16895407633732577357"
     },
     "user_tz": 180
    },
    "id": "QRJ8Ufaqwkdh",
    "outputId": "d5a53a36-4a3e-44bd-c702-333f4e831681"
   },
   "outputs": [
    {
     "output_type": "execute_result",
     "data": {
      "text/plain": [
       "array([[ 26.        ,   9.56436989,  11.43616218,  14.77977074,\n",
       "         -8.80378229,   3.26688291,   3.66105243,  14.90792858,\n",
       "          6.33305243,  -3.9833618 ,   2.06704244,  -6.93309169],\n",
       "       [  9.56436989,  26.        ,  12.49147437,  10.97642551,\n",
       "         -9.10319824,   9.21344918,  -0.28888889,   8.85147779,\n",
       "         10.63809364,  -0.76523341,   1.6153552 ,  -7.46345076],\n",
       "       [ 11.43616218,  12.49147437,  26.        ,  19.28622538,\n",
       "         -5.69626167,  12.99940551,  -3.88623647,  11.13412107,\n",
       "         15.22054271,  14.28387371,   8.16062095,  -2.58074378],\n",
       "       [ 14.77977074,  10.97642551,  19.28622538,  26.        ,\n",
       "         -3.53706156,  12.59263198,  -4.55633058,  16.1146523 ,\n",
       "         18.40775867,   7.82362451,   9.75792915,  -1.57952139],\n",
       "       [ -8.80378229,  -9.10319824,  -5.69626167,  -3.53706156,\n",
       "         26.        ,  -1.90803251,  -5.76293214,  -4.96631011,\n",
       "         -1.41665195,   3.58414866,   2.31402074,  22.7589631 ],\n",
       "       [  3.26688291,   9.21344918,  12.99940551,  12.59263198,\n",
       "         -1.90803251,  26.        ,  -3.75794692,   8.15742977,\n",
       "         21.44035468,   7.93616187,  12.69618386,   0.72743898],\n",
       "       [  3.66105243,  -0.28888889,  -3.88623647,  -4.55633058,\n",
       "         -5.76293214,  -3.75794692,  26.        ,  -3.93399013,\n",
       "         -4.04913   , -10.24247603, -11.37431876,  -8.44385761],\n",
       "       [ 14.90792858,   8.85147779,  11.13412107,  16.1146523 ,\n",
       "         -4.96631011,   8.15742977,  -3.93399013,  26.        ,\n",
       "         12.87672221,   7.65324025,   8.49412421,  -4.24181282],\n",
       "       [  6.33305243,  10.63809364,  15.22054271,  18.40775867,\n",
       "         -1.41665195,  21.44035468,  -4.04913   ,  12.87672221,\n",
       "         26.        ,   9.02966944,  10.29132717,   1.38258622],\n",
       "       [ -3.9833618 ,  -0.76523341,  14.28387371,   7.82362451,\n",
       "          3.58414866,   7.93616187, -10.24247603,   7.65324025,\n",
       "          9.02966944,  26.        ,   9.44087741,   9.88804372],\n",
       "       [  2.06704244,   1.6153552 ,   8.16062095,   9.75792915,\n",
       "          2.31402074,  12.69618386, -11.37431876,   8.49412421,\n",
       "         10.29132717,   9.44087741,  26.        ,   5.28368578],\n",
       "       [ -6.93309169,  -7.46345076,  -2.58074378,  -1.57952139,\n",
       "         22.7589631 ,   0.72743898,  -8.44385761,  -4.24181282,\n",
       "          1.38258622,   9.88804372,   5.28368578,  26.        ]])"
      ]
     },
     "metadata": {},
     "execution_count": 14
    }
   ],
   "source": [
    "# Insira seu código aqui\n",
    "S = Xz @ Xz.T\n",
    "S"
   ]
  },
  {
   "cell_type": "markdown",
   "metadata": {
    "id": "CJaN8gpuwo_s"
   },
   "source": [
    "**1.2.2** Então, agora que já possuímos **S**, o próximo passo é obter a sua decomposição espectral:\n",
    "\n",
    "$$S = E D E^\\top$$\n",
    "\n",
    "Para isso, podemos usar a função que ja usamos nos EP's passados [`np.linalg.eig`](https://numpy.org/doc/stable/reference/generated/numpy.linalg.eig.html). Lembre-se de que o retorno dessa função são duas variáveis: os autovalores em um vetor, e os autovetores correspondentes em uma matriz ortogonal (cada coluna `i` corresponde ao autovalor na posição `i`). Faça essa operação a seguir, salvando o vetor com autovalores em **D_vet** e autovetores em uma matriz **E**:"
   ]
  },
  {
   "cell_type": "code",
   "execution_count": 28,
   "metadata": {
    "colab": {
     "base_uri": "https://localhost:8080/"
    },
    "executionInfo": {
     "elapsed": 683,
     "status": "ok",
     "timestamp": 1612907346271,
     "user": {
      "displayName": "Jackson Junior",
      "photoUrl": "",
      "userId": "16895407633732577357"
     },
     "user_tz": 180
    },
    "id": "IqdMB2JOxPRb",
    "outputId": "9c920392-1a00-4c4d-c551-bbf438e9ccfa"
   },
   "outputs": [],
   "source": [
    "# Insira seu código aqui\n",
    "D_vet, E = np.linalg.eig(S)\n"
   ]
  },
  {
   "cell_type": "markdown",
   "metadata": {
    "id": "L6GY8Y-kxqQr"
   },
   "source": [
    "**1.2.3** O próximo passo do PCA é ordenar os autovalores em ordem decrescente. O motivo disso é deixar os componentes principais (autovetores com autovalores de maior magnitude) nas primeiras colunas de **E**. Portanto, quando reordenamos os autovalores, precisamos guardar qual a ordem que usamos para obtê-los na ordem decrescente, porque essa ordem também será usada para reordenar as colunas de **E**. Por exemplo, suponha que após executar o `np.linalg.eig` obtemos os seguintes autovalores:\n",
    "\n",
    "$$D_{vet} = [0.34,\\ 15.67,\\ 40.60,\\ 28.00,\\ 10.98]$$\n",
    "\n",
    "Então, a ordem dos *índices* que usamos para obter o vetor ordenado decrescentemente é a seguite (considerando que o array inicia com índice 0):\n",
    "\n",
    "$$[2, 3, 1, 4, 0]$$\n",
    "\n",
    "Felizmente, tanto o cálculo desse índice de ordenação quanto a reorganização dos valores dentro de vetores e matrizes pode ser feito facilmente pelo `numpy`. Primeiro, para calcularmos os índices de ordenação podemos usar a função [`numpy.argsort`](https://numpy.org/doc/stable/reference/generated/numpy.argsort.html). Um detalhe é que essa função retorna os índices para ordenar o vetor em ordem crescente, mas queremos ele em ordem decrescente. Para contornar essa limitação podemos reverter os índices resultantes, ou alterantivamente passar para função os valores de $D_{vet}$ com o sinal trocado. Calcule esses índices de ordenação, e guarde em uma variável **indx**:"
   ]
  },
  {
   "cell_type": "code",
   "execution_count": 29,
   "metadata": {
    "colab": {
     "base_uri": "https://localhost:8080/"
    },
    "executionInfo": {
     "elapsed": 700,
     "status": "ok",
     "timestamp": 1612908397147,
     "user": {
      "displayName": "Jackson Junior",
      "photoUrl": "",
      "userId": "16895407633732577357"
     },
     "user_tz": 180
    },
    "id": "VLdqQbXhxpmi",
    "outputId": "f1567703-c8fb-4b6b-c080-261c55329554"
   },
   "outputs": [],
   "source": [
    "# Insira seu código aqui\n",
    "# indx = ...\n",
    "indx = np.argsort(D_vet)[::-1]"
   ]
  },
  {
   "cell_type": "markdown",
   "metadata": {
    "id": "DNslv6511PU1"
   },
   "source": [
    "**1.2.4** Agora que já temos os índices de ordenação, podemos usá-los para reordenar o vetor de autovalores **D_vet** e a matriz com autovetores **E**. O `numpy` permite fazer isso usando seus mecanismos de *indexação*. Usando os índices calculados anteriormente (e que ficam guardados em um `numpy.array`) podemos reordenar tanto o [vetor](https://numpy.org/doc/stable/user/basics.indexing.html#index-arrays) de autovalores quanto as [colunas da matriz](https://numpy.org/doc/stable/user/basics.indexing.html#indexing-multi-dimensional-arrays) dos autovetores. Portanto, podemos fazer essa reordenação com uma operação para os autovalores, e uma operação para os autovetores. Faça essa reordenação a seguir, salvando o vetor de autovalores reordenado em **D_vo**, e a matriz com os autovetores reordenados em **Eo**:"
   ]
  },
  {
   "cell_type": "code",
   "execution_count": 30,
   "metadata": {
    "id": "SPPeCMjr1rul"
   },
   "outputs": [
    {
     "output_type": "stream",
     "name": "stdout",
     "text": [
      "[ 1.14648800e+02+0.00000000e+00j  6.94579157e+01+0.00000000e+00j\n  2.68584247e+01+0.00000000e+00j  2.50480031e+01+0.00000000e+00j\n  2.11710060e+01+0.00000000e+00j  1.80915362e+01+0.00000000e+00j\n  1.25625031e+01+0.00000000e+00j  1.05557146e+01+0.00000000e+00j\n  6.87481757e+00+0.00000000e+00j  3.97748117e+00+0.00000000e+00j\n  2.19035939e+00+0.00000000e+00j  5.63438246e-01+0.00000000e+00j\n  6.39380480e-15+0.00000000e+00j  3.10565942e-15+0.00000000e+00j\n  1.89425623e-15+1.08137947e-15j  1.89425623e-15-1.08137947e-15j\n  1.39621335e-15+5.38799237e-16j  1.39621335e-15-5.38799237e-16j\n -1.00819566e-16+0.00000000e+00j -4.80511025e-16+0.00000000e+00j\n -7.32600549e-16+5.60644365e-16j -7.32600549e-16-5.60644365e-16j\n -1.44026430e-15+0.00000000e+00j -3.74139769e-15+4.45210692e-16j\n -3.74139769e-15-4.45210692e-16j -4.17680398e-15+0.00000000e+00j] [[-1.72870832e-01+0.j          3.88394382e-02+0.j\n  -1.35886469e-01+0.j         -2.19343690e-01+0.j\n   7.37673320e-03+0.j         -1.25039492e-01+0.j\n  -2.69424721e-01+0.j         -1.11860319e-01+0.j\n  -4.15460927e-02+0.j          1.09340463e-01+0.j\n   1.37210740e-02+0.j         -1.00799220e-01+0.j\n   7.54570874e-01+0.j         -7.06655111e-02+0.j\n  -8.53103412e-02-0.024544j   -8.53103412e-02+0.024544j\n   2.70802106e-01+0.j         -9.58896227e-02-0.02617534j\n  -9.58896227e-02+0.02617534j  1.16675640e-01+0.0426111j\n   1.16675640e-01-0.0426111j  -4.09368058e-02+0.j\n   1.56670438e-01+0.10852861j  1.56670438e-01-0.10852861j\n  -1.80544468e-01+0.j         -1.25322505e-01+0.j        ]\n [ 1.95589192e-01+0.j         -2.76002613e-02+0.j\n  -2.32121675e-02+0.j          1.66364186e-01+0.j\n   7.94632432e-02+0.j          4.26497585e-03+0.j\n   1.26640179e-01+0.j         -5.21660504e-01+0.j\n   2.09035024e-01+0.j          8.51858846e-02+0.j\n   7.50708274e-02+0.j         -2.75381469e-02+0.j\n  -7.27596015e-02+0.j          1.19380979e-01+0.j\n   2.28807932e-01+0.07891724j  2.28807932e-01-0.07891724j\n  -3.47976424e-01+0.j         -7.84496138e-02+0.10364958j\n  -7.84496138e-02-0.10364958j -2.61193826e-02-0.05262481j\n  -2.61193826e-02+0.05262481j  8.70031929e-03+0.j\n  -9.88953654e-02-0.00254521j -9.88953654e-02+0.00254521j\n   6.76125952e-02+0.j         -7.85083250e-03+0.j        ]\n [-2.79806744e-01+0.j         -2.16424492e-01+0.j\n  -1.68829087e-01+0.j         -2.32495488e-01+0.j\n   4.19721283e-01+0.j          8.34165252e-02+0.j\n   5.01390137e-01+0.j          1.35981075e-01+0.j\n  -1.66175764e-01+0.j         -7.24892960e-02+0.j\n  -2.43605414e-01+0.j          1.80055923e-02+0.j\n   1.48365912e-01+0.j          1.78124394e-01+0.j\n   1.35041538e-01+0.03750986j  1.35041538e-01-0.03750986j\n  -1.26250436e-01+0.j          1.54689432e-02+0.03996837j\n   1.54689432e-02-0.03996837j -5.21656416e-02-0.07419023j\n  -5.21656416e-02+0.07419023j  1.17021209e-01+0.j\n  -7.28489068e-02-0.01914857j -7.28489068e-02+0.01914857j\n   1.21222543e-01+0.j          1.19336441e-01+0.j        ]\n [ 5.05162740e-02+0.j          3.07307562e-01+0.j\n   1.53076106e-01+0.j          6.33276844e-02+0.j\n  -4.61198352e-01+0.j         -1.41084266e-02+0.j\n   4.20643848e-01+0.j          2.79707035e-01+0.j\n  -1.87362582e-02+0.j         -1.65865041e-01+0.j\n  -4.26665260e-02+0.j         -9.12191757e-02+0.j\n   2.38395620e-01+0.j         -7.88689047e-03+0.j\n  -5.44319516e-02-0.05938693j -5.44319516e-02+0.05938693j\n  -1.07399596e-01+0.j         -6.85000679e-02+0.03615666j\n  -6.85000679e-02-0.03615666j  3.04359464e-03-0.00949348j\n   3.04359464e-03+0.00949348j  7.99153902e-02+0.j\n  -1.58043614e-01-0.05241374j -1.58043614e-01+0.05241374j\n   1.21763657e-01+0.j          1.98548638e-02+0.j        ]\n [ 8.83918924e-02+0.j         -5.47721194e-02+0.j\n   2.26854360e-01+0.j         -2.28911110e-01+0.j\n  -7.42145657e-02+0.j          3.33837446e-02+0.j\n  -1.85909145e-01+0.j          5.37560466e-02+0.j\n   1.04384914e-01+0.j          5.17044514e-02+0.j\n  -5.36742219e-01+0.j         -3.20478291e-01+0.j\n  -2.37454504e-02+0.j         -2.10234970e-01+0.j\n   3.04417316e-02+0.29900758j  3.04417316e-02-0.29900758j\n  -7.58535392e-02+0.j          7.76477122e-03+0.08979261j\n   7.76477122e-03-0.08979261j -1.64394472e-02-0.04942947j\n  -1.64394472e-02+0.04942947j -2.54207117e-02+0.j\n  -1.05862827e-01-0.09050776j -1.05862827e-01+0.09050776j\n   1.90208236e-01+0.j          1.97745880e-01+0.j        ]\n [ 1.26665967e-01+0.j         -1.65169446e-01+0.j\n  -3.39666119e-01+0.j         -1.24074901e-01+0.j\n  -1.55974385e-02+0.j          1.09155050e-01+0.j\n   1.01977784e-01+0.j          1.74565382e-02+0.j\n   1.01499031e-01+0.j         -1.50390534e-01+0.j\n   1.20187815e-01+0.j         -1.64431611e-01+0.j\n   1.40500441e-01+0.j          6.07501253e-02+0.j\n  -3.75275194e-02-0.19064994j -3.75275194e-02+0.19064994j\n  -7.35005680e-02+0.j         -2.18818026e-01+0.25179757j\n  -2.18818026e-01-0.25179757j  3.99898067e-01+0.j\n   3.99898067e-01-0.j         -2.15668999e-01+0.j\n   3.11928676e-01+0.04082177j  3.11928676e-01-0.04082177j\n  -2.35695864e-01+0.j         -5.46102649e-02+0.j        ]\n [-1.47633144e-01+0.j         -1.47071450e-01+0.j\n   5.85330326e-02+0.j         -1.19957480e-01+0.j\n  -2.89253821e-02+0.j         -1.68474308e-01+0.j\n  -2.97995282e-02+0.j          1.13529880e-01+0.j\n   1.14276232e-01+0.j         -5.37905541e-03+0.j\n  -1.31479168e-01+0.j          4.23575295e-01+0.j\n  -1.14272580e-01+0.j         -2.26267313e-02+0.j\n  -5.48229753e-02-0.03950601j -5.48229753e-02+0.03950601j\n  -1.02205905e-01+0.j         -2.07360767e-01-0.07373941j\n  -2.07360767e-01+0.07373941j  2.05278558e-01+0.1511772j\n   2.05278558e-01-0.1511772j   1.90425848e-02+0.j\n   5.17323655e-02+0.1850528j   5.17323655e-02-0.1850528j\n  -3.95082305e-01+0.j         -5.70729633e-01+0.j        ]\n [-1.26500912e-01+0.j         -8.66314559e-02+0.j\n  -1.16185801e-02+0.j         -1.91435425e-01+0.j\n   7.85617388e-02+0.j         -1.08422227e-01+0.j\n  -7.03175184e-02+0.j         -7.70092218e-03+0.j\n  -2.55862673e-01+0.j          3.04386529e-01+0.j\n   4.05172196e-01+0.j          1.41261512e-01+0.j\n  -1.44266267e-01+0.j         -2.92804816e-01+0.j\n  -8.23462252e-02+0.1685711j  -8.23462252e-02-0.1685711j\n  -6.55884694e-02+0.j         -6.60481358e-02+0.00848334j\n  -6.60481358e-02-0.00848334j  6.87932297e-02-0.0681048j\n   6.87932297e-02+0.0681048j  -2.98469345e-01+0.j\n  -8.36761547e-03-0.20037525j -8.36761547e-03+0.20037525j\n   1.87178972e-01+0.j          2.77997025e-01+0.j        ]\n [ 1.89406762e-01+0.j         -1.90527650e-01+0.j\n  -2.95150981e-01+0.j         -1.18826929e-01+0.j\n  -4.13875019e-02+0.j          1.41510278e-01+0.j\n   2.02618860e-01+0.j          1.87964782e-02+0.j\n   1.39523478e-01+0.j         -4.70231230e-03+0.j\n  -2.85651356e-02+0.j         -1.54045788e-01+0.j\n  -6.31236673e-02+0.j         -2.81154236e-01+0.j\n  -2.91756530e-01-0.0122471j  -2.91756530e-01+0.0122471j\n  -1.60232144e-01+0.j          1.29549919e-01+0.18086351j\n   1.29549919e-01-0.18086351j -2.73678751e-01-0.21817003j\n  -2.73678751e-01+0.21817003j -1.74787743e-01+0.j\n   1.20973399e-01+0.04082754j  1.20973399e-01-0.04082754j\n  -1.98576588e-01+0.j         -1.57032799e-01+0.j        ]\n [ 2.71739836e-01+0.j         -7.57308560e-02+0.j\n   5.21808645e-01+0.j         -8.77227549e-02+0.j\n   5.17843606e-02+0.j          3.66134812e-02+0.j\n   2.25544910e-01+0.j         -2.67728436e-01+0.j\n  -4.45879746e-01+0.j          2.66649986e-01+0.j\n  -2.01210058e-02+0.j         -2.12484023e-02+0.j\n   2.11569734e-01+0.j          9.40505315e-02+0.j\n  -6.70245376e-02-0.18504425j -6.70245376e-02+0.18504425j\n  -2.15017570e-02+0.j         -9.99488897e-03+0.19211013j\n  -9.99488897e-03-0.19211013j  6.01202045e-02-0.09217083j\n   6.01202045e-02+0.09217083j  9.96026552e-02+0.j\n   9.25337602e-02+0.11757667j  9.25337602e-02-0.11757667j\n  -2.00850206e-01+0.j         -1.89929233e-01+0.j        ]\n [-2.21846955e-01+0.j          1.33906163e-01+0.j\n   1.31289880e-01+0.j         -9.85022559e-02+0.j\n   1.80676128e-02+0.j          2.44637778e-01+0.j\n  -1.10098459e-02+0.j         -9.64496259e-02+0.j\n   2.39698419e-01+0.j          3.16345629e-02+0.j\n   1.57747132e-01+0.j         -1.32001809e-01+0.j\n   9.15225091e-02+0.j         -3.23134684e-02+0.j\n   1.46432923e-01+0.13971154j  1.46432923e-01-0.13971154j\n   1.18804414e-01+0.j          4.11497235e-01+0.j\n   4.11497235e-01-0.j         -2.95749718e-01-0.1214175j\n  -2.95749718e-01+0.1214175j  -3.72682844e-01+0.j\n  -1.28234016e-01-0.33567807j -1.28234016e-01+0.33567807j\n   3.69216107e-01+0.j          4.10938053e-01+0.j        ]\n [-1.55520473e-01+0.j         -3.04403025e-01+0.j\n   2.52394924e-01+0.j          5.44129312e-01+0.j\n   2.27502993e-01+0.j         -8.52474251e-02+0.j\n  -3.19545053e-02+0.j          2.07507770e-01+0.j\n  -1.20550382e-01+0.j         -3.49767231e-01+0.j\n   8.62677428e-02+0.j         -1.89497777e-01+0.j\n   1.31030104e-01+0.j         -3.24908479e-01+0.j\n  -1.27719605e-01+0.07494658j -1.27719605e-01-0.07494658j\n  -3.01719949e-02+0.j          3.12895679e-03+0.08541081j\n   3.12895679e-03-0.08541081j  2.13416173e-02-0.05137124j\n   2.13416173e-02+0.05137124j -1.95850314e-01+0.j\n   1.34587822e-01-0.01197459j  1.34587822e-01+0.01197459j\n  -9.70758279e-02+0.j          8.39746658e-03+0.j        ]\n [-9.51807212e-02+0.j         -7.84004543e-02+0.j\n   1.55258069e-01+0.j          1.01304523e-01+0.j\n  -2.68605696e-01+0.j         -2.58709201e-03+0.j\n  -9.01651335e-03+0.j          1.41574215e-01+0.j\n   1.31788889e-01+0.j          2.26607802e-01+0.j\n  -2.13216095e-01+0.j          1.09696114e-01+0.j\n  -1.65203413e-02+0.j          2.70701696e-01+0.j\n   2.09376326e-01-0.04887657j  2.09376326e-01+0.04887657j\n   1.46022205e-01+0.j         -4.39562078e-02-0.05001494j\n  -4.39562078e-02+0.05001494j  2.02372449e-01-0.00806586j\n   2.02372449e-01+0.00806586j -4.69319281e-01+0.j\n   4.32177053e-01+0.j          4.32177053e-01-0.j\n  -2.61275142e-01+0.j          1.27996159e-01+0.j        ]\n [-2.52111852e-02+0.j          2.69924092e-01+0.j\n  -1.10176380e-01+0.j          1.43593939e-01+0.j\n   2.76319544e-01+0.j         -1.05928204e-01+0.j\n  -4.69398441e-02+0.j          2.90806827e-02+0.j\n   5.96494178e-02+0.j          2.41991785e-01+0.j\n   5.50371259e-02+0.j         -5.38342077e-01+0.j\n  -4.77609745e-02+0.j          1.61191212e-01+0.j\n  -2.23661772e-02-0.10300144j -2.23661772e-02+0.10300144j\n   2.88780454e-02+0.j         -1.47466709e-01-0.12847434j\n  -1.47466709e-01+0.12847434j  2.08462548e-01+0.15502058j\n   2.08462548e-01-0.15502058j  1.97758840e-01+0.j\n  -1.32889451e-02+0.16225519j -1.32889451e-02-0.16225519j\n  -2.43696000e-01+0.j         -2.87755140e-01+0.j        ]\n [-2.76450465e-01+0.j          7.19079115e-02+0.j\n  -1.88798958e-02+0.j          8.22561016e-02+0.j\n   1.61070305e-02+0.j          1.55047717e-01+0.j\n  -2.71782658e-01+0.j         -2.72726636e-01+0.j\n  -2.79371060e-01+0.j         -4.11396156e-01+0.j\n  -1.14282948e-01+0.j          7.53332022e-02+0.j\n  -1.69298776e-02+0.j          3.88451924e-01+0.j\n   1.64160179e-01-0.07650773j  1.64160179e-01+0.07650773j\n  -3.23358313e-02+0.j          2.11014913e-02+0.10641517j\n   2.11014913e-02-0.10641517j -2.90846970e-02-0.08145725j\n  -2.90846970e-02+0.08145725j  6.70964362e-02+0.j\n  -1.08995358e-01-0.00840314j -1.08995358e-01+0.00840314j\n   5.45915243e-02+0.j          2.28628243e-02+0.j        ]\n [-1.89858378e-01+0.j         -6.58371788e-02+0.j\n   1.59201391e-02+0.j          8.51745680e-02+0.j\n  -1.62437516e-01+0.j         -1.06953409e-02+0.j\n  -2.44707305e-01+0.j          1.51700081e-01+0.j\n  -1.00931551e-01+0.j          2.16264007e-01+0.j\n   8.07435274e-02+0.j         -1.63076189e-01+0.j\n  -2.76843405e-02+0.j          7.12795819e-02+0.j\n  -9.74612415e-02-0.11591124j -9.74612415e-02+0.11591124j\n  -7.15469931e-01+0.j          2.50782132e-03+0.37159645j\n   2.50782132e-03-0.37159645j -2.95549834e-01-0.23166412j\n  -2.95549834e-01+0.23166412j  1.25077733e-01+0.j\n   1.26586330e-01+0.0924199j   1.26586330e-01-0.0924199j\n  -1.74882686e-01+0.j         -1.78223275e-01+0.j        ]\n [-8.51567451e-02+0.j          2.20181961e-01+0.j\n  -9.30793640e-03+0.j         -8.25442900e-02+0.j\n  -1.30596802e-01+0.j         -1.99050790e-01+0.j\n   8.07857710e-02+0.j          1.98053783e-01+0.j\n  -1.29655708e-01+0.j         -3.56028013e-02+0.j\n   3.01841056e-01+0.j         -2.82367358e-03+0.j\n   2.62308997e-02+0.j         -6.88189959e-02+0.j\n  -4.33034380e-02+0.10560202j -4.33034380e-02-0.10560202j\n  -1.11805170e-01+0.j          3.08304633e-02+0.20268093j\n   3.08304633e-02-0.20268093j  5.64077987e-02-0.11237889j\n   5.64077987e-02+0.11237889j  4.02416245e-02+0.j\n  -1.04198876e-01+0.01314967j -1.04198876e-01-0.01314967j\n   1.58288434e-01+0.j          1.07158429e-01+0.j        ]\n [ 3.42131188e-01+0.j         -7.78266329e-02+0.j\n  -2.75063306e-01+0.j         -1.37036530e-02+0.j\n  -9.84194208e-03+0.j         -2.51041247e-01+0.j\n  -2.25257796e-01+0.j          3.25811873e-01+0.j\n  -1.84124609e-01+0.j          4.74656754e-02+0.j\n  -3.87068033e-02+0.j          6.15374812e-02+0.j\n   7.75234591e-02+0.j          3.59036727e-01+0.j\n   3.88634404e-01+0.j          3.88634404e-01-0.j\n   1.51394763e-02+0.j          2.28265506e-01+0.0926188j\n   2.28265506e-01-0.0926188j  -2.08712122e-01-0.13591073j\n  -2.08712122e-01+0.13591073j  1.66111607e-01+0.j\n  -2.35737800e-01-0.08078872j -2.35737800e-01+0.08078872j\n   2.07079276e-01+0.j          1.55186424e-01+0.j        ]\n [-1.04309598e-01+0.j          7.14837637e-02+0.j\n   1.00124567e-01+0.j         -2.49395315e-01+0.j\n  -1.16222176e-02+0.j         -1.46683682e-01+0.j\n   1.25311359e-01+0.j         -1.00060126e-01+0.j\n   1.19756664e-01+0.j         -1.60748163e-01+0.j\n   1.97935135e-01+0.j          1.50801552e-01+0.j\n   8.17915889e-02+0.j         -2.62801934e-02+0.j\n   1.16705217e-02+0.07611798j  1.16705217e-02-0.07611798j\n  -1.38319513e-01+0.j          1.34124769e-01+0.0868403j\n   1.34124769e-01-0.0868403j  -2.08235681e-01+0.01804687j\n  -2.08235681e-01-0.01804687j  1.27003378e-01+0.j\n   1.12373842e-01+0.0971397j   1.12373842e-01-0.0971397j\n  -2.00389961e-01+0.j          3.33234371e-03+0.j        ]\n [-5.36721572e-03+0.j          4.03505429e-01+0.j\n   1.13742044e-01+0.j          8.65542638e-02+0.j\n   3.67750882e-01+0.j          4.12286650e-01+0.j\n  -7.91229000e-02+0.j          2.72114347e-01+0.j\n   2.65015756e-01+0.j          1.47573836e-01+0.j\n   8.37486936e-03+0.j          3.04169579e-01+0.j\n   1.58867837e-01+0.j          7.01957510e-04+0.j\n  -4.73638317e-02-0.09097269j -4.73638317e-02+0.09097269j\n  -1.61019189e-01+0.j         -1.00390349e-01+0.26103833j\n  -1.00390349e-01-0.26103833j  5.41883948e-02-0.15129425j\n   5.41883948e-02+0.15129425j  1.48081492e-01+0.j\n   5.12951440e-02+0.11059689j  5.12951440e-02-0.11059689j\n  -1.20382718e-01+0.j         -1.14101877e-01+0.j        ]\n [ 2.68242331e-01+0.j         -6.44326137e-02+0.j\n  -1.63926336e-01+0.j          1.22272021e-01+0.j\n   2.65330949e-03+0.j          3.73650740e-01+0.j\n  -1.80576692e-01+0.j          4.06244104e-02+0.j\n  -2.42777501e-01+0.j          8.70599244e-02+0.j\n  -1.43316209e-01+0.j          2.35386775e-01+0.j\n   1.74438303e-01+0.j         -3.17180944e-01+0.j\n  -2.64834155e-01+0.06436909j -2.64834155e-01-0.06436909j\n  -1.17520797e-01+0.j          6.68447913e-02-0.01242433j\n   6.68447913e-02+0.01242433j -3.05601625e-02+0.07166669j\n  -3.05601625e-02-0.07166669j -6.50558294e-02+0.j\n  -7.06222830e-02-0.08557234j -7.06222830e-02+0.08557234j\n   1.42623170e-01+0.j          1.77356413e-01+0.j        ]\n [-1.08621366e-01+0.j          2.09063118e-01+0.j\n  -3.52156219e-01+0.j          3.37078821e-01+0.j\n  -3.12888040e-01+0.j          1.42457964e-01+0.j\n   1.57668994e-01+0.j         -2.45369333e-01+0.j\n  -1.98943962e-01+0.j          6.34256032e-02+0.j\n  -5.59363957e-02+0.j          9.29965483e-02+0.j\n   8.38486007e-02+0.j         -1.17158461e-01+0.j\n   3.39282415e-02+0.15809311j  3.39282415e-02-0.15809311j\n   6.21853250e-02+0.j         -1.99428198e-02+0.0134447j\n  -1.99428198e-02-0.0134447j   4.22021097e-02-0.03513514j\n   4.22021097e-02+0.03513514j  2.23230362e-02+0.j\n   1.14927945e-01+0.06632047j  1.14927945e-01-0.06632047j\n  -1.54906772e-01+0.j         -8.23513787e-02+0.j        ]\n [-1.90274511e-01+0.j         -1.58582028e-01+0.j\n   3.63750132e-02+0.j         -1.95137178e-01+0.j\n  -2.37096685e-01+0.j          5.52393466e-02+0.j\n  -1.93357259e-01+0.j         -1.73081471e-01+0.j\n   1.74887061e-01+0.j         -1.42361570e-01+0.j\n  -4.31858081e-02+0.j         -2.83361680e-02+0.j\n   7.17800062e-02+0.j         -1.29998067e-01+0.j\n  -2.07290500e-01-0.20628158j -2.07290500e-01+0.20628158j\n  -2.23041218e-01+0.j         -8.49709786e-02+0.19547284j\n  -8.49709786e-02-0.19547284j  1.09430576e-01-0.13609293j\n   1.09430576e-01+0.13609293j  3.47308375e-01+0.j\n  -1.37738025e-01+0.08505856j -1.37738025e-01-0.08505856j\n   3.96951067e-02+0.j         -5.49758677e-02+0.j        ]\n [ 4.58328442e-01+0.j          1.26507440e-01+0.j\n   1.41325297e-01+0.j         -1.87574902e-01+0.j\n   6.57339838e-02+0.j          6.06769937e-02+0.j\n  -1.62072956e-01+0.j          1.67487745e-02+0.j\n   1.56259175e-02+0.j         -4.55433975e-01+0.j\n   2.19548265e-01+0.j         -8.19189266e-03+0.j\n   4.47357433e-02+0.j          4.93884113e-02+0.j\n   3.39419638e-02+0.06408577j  3.39419638e-02-0.06408577j\n  -5.27378630e-02+0.j         -1.04406609e-01-0.07120604j\n  -1.04406609e-01+0.07120604j  7.22391216e-02-0.01386363j\n   7.22391216e-02+0.01386363j -1.22718519e-01+0.j\n   2.06017000e-01+0.05136284j  2.06017000e-01-0.05136284j\n  -1.90334937e-01+0.j         -8.82908893e-02+0.j        ]\n [ 1.03821519e-01+0.j         -4.12195558e-01+0.j\n   7.13062628e-02+0.j          2.76270717e-01+0.j\n  -6.81880400e-02+0.j         -5.51147428e-02+0.j\n   4.90844355e-02+0.j         -1.04275306e-02+0.j\n   3.83308366e-01+0.j          1.28066303e-01+0.j\n   2.05651290e-01+0.j          1.37223473e-01+0.j\n   3.41218409e-01+0.j          2.00899552e-01+0.j\n   3.35910497e-02+0.03808709j  3.35910497e-02-0.03808709j\n   1.15718669e-01+0.j          4.01781739e-02+0.03605345j\n   4.01781739e-02-0.03605345j -2.64238377e-02-0.03797101j\n  -2.64238377e-02+0.03797101j  3.04946460e-01+0.j\n  -2.28064416e-01-0.00930843j -2.28064416e-01+0.00930843j\n   2.16063204e-01+0.j          1.25516381e-01+0.j        ]\n [ 8.97758435e-02+0.j          2.72978345e-01+0.j\n  -7.41348620e-02+0.j          1.41299234e-01+0.j\n   2.11557466e-01+0.j         -5.79948266e-01+0.j\n   1.95829090e-02+0.j         -1.95378086e-01+0.j\n   1.26106139e-01+0.j         -5.32206790e-02+0.j\n  -3.15474329e-01+0.j          1.92043097e-01+0.j\n   1.21409514e-01+0.j         -2.38167528e-01+0.j\n  -2.50875429e-01-0.04846234j -2.50875429e-01+0.04846234j\n  -1.85885288e-01+0.j          9.33144964e-02+0.22965494j\n   9.33144964e-02-0.22965494j -8.99336927e-02-0.1905267j\n  -8.99336927e-02+0.1905267j  -2.08923515e-01+0.j\n   8.72112464e-02-0.13473046j  8.72112464e-02+0.13473046j\n   1.10949633e-01+0.j          2.23486976e-01+0.j        ]]\n"
     ]
    }
   ],
   "source": [
    "# Insira seu código aqui\n",
    "# D_vo = ...\n",
    "# Eo = ...\n",
    "D_vo = D_vet[indx]\n",
    "Eo = E[:, indx]\n",
    "print(D_vo, Eo)"
   ]
  },
  {
   "cell_type": "markdown",
   "metadata": {
    "id": "yFiO_G4f24p-"
   },
   "source": [
    "**1.2.5** Agora que já obtemos os autovalores e autovetores de **S** reordenados, podemos obter a matriz **P** com os componentes principais. Para isso basta obter a transposta de **Eo**:\n",
    "\n",
    "$$P = E^\\top$$\n",
    "\n",
    "Obtenha essa matriz **P** a seguir (salve o resultado numa variável chamada **P**):"
   ]
  },
  {
   "cell_type": "code",
   "execution_count": 31,
   "metadata": {
    "colab": {
     "base_uri": "https://localhost:8080/"
    },
    "executionInfo": {
     "elapsed": 850,
     "status": "ok",
     "timestamp": 1612908977067,
     "user": {
      "displayName": "Jackson Junior",
      "photoUrl": "",
      "userId": "16895407633732577357"
     },
     "user_tz": 180
    },
    "id": "cgVJUUj22wId",
    "outputId": "0c048fd5-b81d-400a-a93c-c258c89898c1"
   },
   "outputs": [
    {
     "output_type": "stream",
     "name": "stdout",
     "text": [
      "[[-1.72870832e-01+0.j          1.95589192e-01+0.j\n  -2.79806744e-01+0.j          5.05162740e-02+0.j\n   8.83918924e-02+0.j          1.26665967e-01+0.j\n  -1.47633144e-01+0.j         -1.26500912e-01+0.j\n   1.89406762e-01+0.j          2.71739836e-01+0.j\n  -2.21846955e-01+0.j         -1.55520473e-01+0.j\n  -9.51807212e-02+0.j         -2.52111852e-02+0.j\n  -2.76450465e-01+0.j         -1.89858378e-01+0.j\n  -8.51567451e-02+0.j          3.42131188e-01+0.j\n  -1.04309598e-01+0.j         -5.36721572e-03+0.j\n   2.68242331e-01+0.j         -1.08621366e-01+0.j\n  -1.90274511e-01+0.j          4.58328442e-01+0.j\n   1.03821519e-01+0.j          8.97758435e-02+0.j        ]\n [ 3.88394382e-02+0.j         -2.76002613e-02+0.j\n  -2.16424492e-01+0.j          3.07307562e-01+0.j\n  -5.47721194e-02+0.j         -1.65169446e-01+0.j\n  -1.47071450e-01+0.j         -8.66314559e-02+0.j\n  -1.90527650e-01+0.j         -7.57308560e-02+0.j\n   1.33906163e-01+0.j         -3.04403025e-01+0.j\n  -7.84004543e-02+0.j          2.69924092e-01+0.j\n   7.19079115e-02+0.j         -6.58371788e-02+0.j\n   2.20181961e-01+0.j         -7.78266329e-02+0.j\n   7.14837637e-02+0.j          4.03505429e-01+0.j\n  -6.44326137e-02+0.j          2.09063118e-01+0.j\n  -1.58582028e-01+0.j          1.26507440e-01+0.j\n  -4.12195558e-01+0.j          2.72978345e-01+0.j        ]\n [-1.35886469e-01+0.j         -2.32121675e-02+0.j\n  -1.68829087e-01+0.j          1.53076106e-01+0.j\n   2.26854360e-01+0.j         -3.39666119e-01+0.j\n   5.85330326e-02+0.j         -1.16185801e-02+0.j\n  -2.95150981e-01+0.j          5.21808645e-01+0.j\n   1.31289880e-01+0.j          2.52394924e-01+0.j\n   1.55258069e-01+0.j         -1.10176380e-01+0.j\n  -1.88798958e-02+0.j          1.59201391e-02+0.j\n  -9.30793640e-03+0.j         -2.75063306e-01+0.j\n   1.00124567e-01+0.j          1.13742044e-01+0.j\n  -1.63926336e-01+0.j         -3.52156219e-01+0.j\n   3.63750132e-02+0.j          1.41325297e-01+0.j\n   7.13062628e-02+0.j         -7.41348620e-02+0.j        ]\n [-2.19343690e-01+0.j          1.66364186e-01+0.j\n  -2.32495488e-01+0.j          6.33276844e-02+0.j\n  -2.28911110e-01+0.j         -1.24074901e-01+0.j\n  -1.19957480e-01+0.j         -1.91435425e-01+0.j\n  -1.18826929e-01+0.j         -8.77227549e-02+0.j\n  -9.85022559e-02+0.j          5.44129312e-01+0.j\n   1.01304523e-01+0.j          1.43593939e-01+0.j\n   8.22561016e-02+0.j          8.51745680e-02+0.j\n  -8.25442900e-02+0.j         -1.37036530e-02+0.j\n  -2.49395315e-01+0.j          8.65542638e-02+0.j\n   1.22272021e-01+0.j          3.37078821e-01+0.j\n  -1.95137178e-01+0.j         -1.87574902e-01+0.j\n   2.76270717e-01+0.j          1.41299234e-01+0.j        ]\n [ 7.37673320e-03+0.j          7.94632432e-02+0.j\n   4.19721283e-01+0.j         -4.61198352e-01+0.j\n  -7.42145657e-02+0.j         -1.55974385e-02+0.j\n  -2.89253821e-02+0.j          7.85617388e-02+0.j\n  -4.13875019e-02+0.j          5.17843606e-02+0.j\n   1.80676128e-02+0.j          2.27502993e-01+0.j\n  -2.68605696e-01+0.j          2.76319544e-01+0.j\n   1.61070305e-02+0.j         -1.62437516e-01+0.j\n  -1.30596802e-01+0.j         -9.84194208e-03+0.j\n  -1.16222176e-02+0.j          3.67750882e-01+0.j\n   2.65330949e-03+0.j         -3.12888040e-01+0.j\n  -2.37096685e-01+0.j          6.57339838e-02+0.j\n  -6.81880400e-02+0.j          2.11557466e-01+0.j        ]\n [-1.25039492e-01+0.j          4.26497585e-03+0.j\n   8.34165252e-02+0.j         -1.41084266e-02+0.j\n   3.33837446e-02+0.j          1.09155050e-01+0.j\n  -1.68474308e-01+0.j         -1.08422227e-01+0.j\n   1.41510278e-01+0.j          3.66134812e-02+0.j\n   2.44637778e-01+0.j         -8.52474251e-02+0.j\n  -2.58709201e-03+0.j         -1.05928204e-01+0.j\n   1.55047717e-01+0.j         -1.06953409e-02+0.j\n  -1.99050790e-01+0.j         -2.51041247e-01+0.j\n  -1.46683682e-01+0.j          4.12286650e-01+0.j\n   3.73650740e-01+0.j          1.42457964e-01+0.j\n   5.52393466e-02+0.j          6.06769937e-02+0.j\n  -5.51147428e-02+0.j         -5.79948266e-01+0.j        ]\n [-2.69424721e-01+0.j          1.26640179e-01+0.j\n   5.01390137e-01+0.j          4.20643848e-01+0.j\n  -1.85909145e-01+0.j          1.01977784e-01+0.j\n  -2.97995282e-02+0.j         -7.03175184e-02+0.j\n   2.02618860e-01+0.j          2.25544910e-01+0.j\n  -1.10098459e-02+0.j         -3.19545053e-02+0.j\n  -9.01651335e-03+0.j         -4.69398441e-02+0.j\n  -2.71782658e-01+0.j         -2.44707305e-01+0.j\n   8.07857710e-02+0.j         -2.25257796e-01+0.j\n   1.25311359e-01+0.j         -7.91229000e-02+0.j\n  -1.80576692e-01+0.j          1.57668994e-01+0.j\n  -1.93357259e-01+0.j         -1.62072956e-01+0.j\n   4.90844355e-02+0.j          1.95829090e-02+0.j        ]\n [-1.11860319e-01+0.j         -5.21660504e-01+0.j\n   1.35981075e-01+0.j          2.79707035e-01+0.j\n   5.37560466e-02+0.j          1.74565382e-02+0.j\n   1.13529880e-01+0.j         -7.70092218e-03+0.j\n   1.87964782e-02+0.j         -2.67728436e-01+0.j\n  -9.64496259e-02+0.j          2.07507770e-01+0.j\n   1.41574215e-01+0.j          2.90806827e-02+0.j\n  -2.72726636e-01+0.j          1.51700081e-01+0.j\n   1.98053783e-01+0.j          3.25811873e-01+0.j\n  -1.00060126e-01+0.j          2.72114347e-01+0.j\n   4.06244104e-02+0.j         -2.45369333e-01+0.j\n  -1.73081471e-01+0.j          1.67487745e-02+0.j\n  -1.04275306e-02+0.j         -1.95378086e-01+0.j        ]\n [-4.15460927e-02+0.j          2.09035024e-01+0.j\n  -1.66175764e-01+0.j         -1.87362582e-02+0.j\n   1.04384914e-01+0.j          1.01499031e-01+0.j\n   1.14276232e-01+0.j         -2.55862673e-01+0.j\n   1.39523478e-01+0.j         -4.45879746e-01+0.j\n   2.39698419e-01+0.j         -1.20550382e-01+0.j\n   1.31788889e-01+0.j          5.96494178e-02+0.j\n  -2.79371060e-01+0.j         -1.00931551e-01+0.j\n  -1.29655708e-01+0.j         -1.84124609e-01+0.j\n   1.19756664e-01+0.j          2.65015756e-01+0.j\n  -2.42777501e-01+0.j         -1.98943962e-01+0.j\n   1.74887061e-01+0.j          1.56259175e-02+0.j\n   3.83308366e-01+0.j          1.26106139e-01+0.j        ]\n [ 1.09340463e-01+0.j          8.51858846e-02+0.j\n  -7.24892960e-02+0.j         -1.65865041e-01+0.j\n   5.17044514e-02+0.j         -1.50390534e-01+0.j\n  -5.37905541e-03+0.j          3.04386529e-01+0.j\n  -4.70231230e-03+0.j          2.66649986e-01+0.j\n   3.16345629e-02+0.j         -3.49767231e-01+0.j\n   2.26607802e-01+0.j          2.41991785e-01+0.j\n  -4.11396156e-01+0.j          2.16264007e-01+0.j\n  -3.56028013e-02+0.j          4.74656754e-02+0.j\n  -1.60748163e-01+0.j          1.47573836e-01+0.j\n   8.70599244e-02+0.j          6.34256032e-02+0.j\n  -1.42361570e-01+0.j         -4.55433975e-01+0.j\n   1.28066303e-01+0.j         -5.32206790e-02+0.j        ]\n [ 1.37210740e-02+0.j          7.50708274e-02+0.j\n  -2.43605414e-01+0.j         -4.26665260e-02+0.j\n  -5.36742219e-01+0.j          1.20187815e-01+0.j\n  -1.31479168e-01+0.j          4.05172196e-01+0.j\n  -2.85651356e-02+0.j         -2.01210058e-02+0.j\n   1.57747132e-01+0.j          8.62677428e-02+0.j\n  -2.13216095e-01+0.j          5.50371259e-02+0.j\n  -1.14282948e-01+0.j          8.07435274e-02+0.j\n   3.01841056e-01+0.j         -3.87068033e-02+0.j\n   1.97935135e-01+0.j          8.37486936e-03+0.j\n  -1.43316209e-01+0.j         -5.59363957e-02+0.j\n  -4.31858081e-02+0.j          2.19548265e-01+0.j\n   2.05651290e-01+0.j         -3.15474329e-01+0.j        ]\n [-1.00799220e-01+0.j         -2.75381469e-02+0.j\n   1.80055923e-02+0.j         -9.12191757e-02+0.j\n  -3.20478291e-01+0.j         -1.64431611e-01+0.j\n   4.23575295e-01+0.j          1.41261512e-01+0.j\n  -1.54045788e-01+0.j         -2.12484023e-02+0.j\n  -1.32001809e-01+0.j         -1.89497777e-01+0.j\n   1.09696114e-01+0.j         -5.38342077e-01+0.j\n   7.53332022e-02+0.j         -1.63076189e-01+0.j\n  -2.82367358e-03+0.j          6.15374812e-02+0.j\n   1.50801552e-01+0.j          3.04169579e-01+0.j\n   2.35386775e-01+0.j          9.29965483e-02+0.j\n  -2.83361680e-02+0.j         -8.19189266e-03+0.j\n   1.37223473e-01+0.j          1.92043097e-01+0.j        ]\n [ 7.54570874e-01+0.j         -7.27596015e-02+0.j\n   1.48365912e-01+0.j          2.38395620e-01+0.j\n  -2.37454504e-02+0.j          1.40500441e-01+0.j\n  -1.14272580e-01+0.j         -1.44266267e-01+0.j\n  -6.31236673e-02+0.j          2.11569734e-01+0.j\n   9.15225091e-02+0.j          1.31030104e-01+0.j\n  -1.65203413e-02+0.j         -4.77609745e-02+0.j\n  -1.69298776e-02+0.j         -2.76843405e-02+0.j\n   2.62308997e-02+0.j          7.75234591e-02+0.j\n   8.17915889e-02+0.j          1.58867837e-01+0.j\n   1.74438303e-01+0.j          8.38486007e-02+0.j\n   7.17800062e-02+0.j          4.47357433e-02+0.j\n   3.41218409e-01+0.j          1.21409514e-01+0.j        ]\n [-7.06655111e-02+0.j          1.19380979e-01+0.j\n   1.78124394e-01+0.j         -7.88689047e-03+0.j\n  -2.10234970e-01+0.j          6.07501253e-02+0.j\n  -2.26267313e-02+0.j         -2.92804816e-01+0.j\n  -2.81154236e-01+0.j          9.40505315e-02+0.j\n  -3.23134684e-02+0.j         -3.24908479e-01+0.j\n   2.70701696e-01+0.j          1.61191212e-01+0.j\n   3.88451924e-01+0.j          7.12795819e-02+0.j\n  -6.88189959e-02+0.j          3.59036727e-01+0.j\n  -2.62801934e-02+0.j          7.01957510e-04+0.j\n  -3.17180944e-01+0.j         -1.17158461e-01+0.j\n  -1.29998067e-01+0.j          4.93884113e-02+0.j\n   2.00899552e-01+0.j         -2.38167528e-01+0.j        ]\n [-8.53103412e-02-0.024544j    2.28807932e-01+0.07891724j\n   1.35041538e-01+0.03750986j -5.44319516e-02-0.05938693j\n   3.04417316e-02+0.29900758j -3.75275194e-02-0.19064994j\n  -5.48229753e-02-0.03950601j -8.23462252e-02+0.1685711j\n  -2.91756530e-01-0.0122471j  -6.70245376e-02-0.18504425j\n   1.46432923e-01+0.13971154j -1.27719605e-01+0.07494658j\n   2.09376326e-01-0.04887657j -2.23661772e-02-0.10300144j\n   1.64160179e-01-0.07650773j -9.74612415e-02-0.11591124j\n  -4.33034380e-02+0.10560202j  3.88634404e-01+0.j\n   1.16705217e-02+0.07611798j -4.73638317e-02-0.09097269j\n  -2.64834155e-01+0.06436909j  3.39282415e-02+0.15809311j\n  -2.07290500e-01-0.20628158j  3.39419638e-02+0.06408577j\n   3.35910497e-02+0.03808709j -2.50875429e-01-0.04846234j]\n [-8.53103412e-02+0.024544j    2.28807932e-01-0.07891724j\n   1.35041538e-01-0.03750986j -5.44319516e-02+0.05938693j\n   3.04417316e-02-0.29900758j -3.75275194e-02+0.19064994j\n  -5.48229753e-02+0.03950601j -8.23462252e-02-0.1685711j\n  -2.91756530e-01+0.0122471j  -6.70245376e-02+0.18504425j\n   1.46432923e-01-0.13971154j -1.27719605e-01-0.07494658j\n   2.09376326e-01+0.04887657j -2.23661772e-02+0.10300144j\n   1.64160179e-01+0.07650773j -9.74612415e-02+0.11591124j\n  -4.33034380e-02-0.10560202j  3.88634404e-01-0.j\n   1.16705217e-02-0.07611798j -4.73638317e-02+0.09097269j\n  -2.64834155e-01-0.06436909j  3.39282415e-02-0.15809311j\n  -2.07290500e-01+0.20628158j  3.39419638e-02-0.06408577j\n   3.35910497e-02-0.03808709j -2.50875429e-01+0.04846234j]\n [ 2.70802106e-01+0.j         -3.47976424e-01+0.j\n  -1.26250436e-01+0.j         -1.07399596e-01+0.j\n  -7.58535392e-02+0.j         -7.35005680e-02+0.j\n  -1.02205905e-01+0.j         -6.55884694e-02+0.j\n  -1.60232144e-01+0.j         -2.15017570e-02+0.j\n   1.18804414e-01+0.j         -3.01719949e-02+0.j\n   1.46022205e-01+0.j          2.88780454e-02+0.j\n  -3.23358313e-02+0.j         -7.15469931e-01+0.j\n  -1.11805170e-01+0.j          1.51394763e-02+0.j\n  -1.38319513e-01+0.j         -1.61019189e-01+0.j\n  -1.17520797e-01+0.j          6.21853250e-02+0.j\n  -2.23041218e-01+0.j         -5.27378630e-02+0.j\n   1.15718669e-01+0.j         -1.85885288e-01+0.j        ]\n [-9.58896227e-02-0.02617534j -7.84496138e-02+0.10364958j\n   1.54689432e-02+0.03996837j -6.85000679e-02+0.03615666j\n   7.76477122e-03+0.08979261j -2.18818026e-01+0.25179757j\n  -2.07360767e-01-0.07373941j -6.60481358e-02+0.00848334j\n   1.29549919e-01+0.18086351j -9.99488897e-03+0.19211013j\n   4.11497235e-01+0.j          3.12895679e-03+0.08541081j\n  -4.39562078e-02-0.05001494j -1.47466709e-01-0.12847434j\n   2.11014913e-02+0.10641517j  2.50782132e-03+0.37159645j\n   3.08304633e-02+0.20268093j  2.28265506e-01+0.0926188j\n   1.34124769e-01+0.0868403j  -1.00390349e-01+0.26103833j\n   6.68447913e-02-0.01242433j -1.99428198e-02+0.0134447j\n  -8.49709786e-02+0.19547284j -1.04406609e-01-0.07120604j\n   4.01781739e-02+0.03605345j  9.33144964e-02+0.22965494j]\n [-9.58896227e-02+0.02617534j -7.84496138e-02-0.10364958j\n   1.54689432e-02-0.03996837j -6.85000679e-02-0.03615666j\n   7.76477122e-03-0.08979261j -2.18818026e-01-0.25179757j\n  -2.07360767e-01+0.07373941j -6.60481358e-02-0.00848334j\n   1.29549919e-01-0.18086351j -9.99488897e-03-0.19211013j\n   4.11497235e-01-0.j          3.12895679e-03-0.08541081j\n  -4.39562078e-02+0.05001494j -1.47466709e-01+0.12847434j\n   2.11014913e-02-0.10641517j  2.50782132e-03-0.37159645j\n   3.08304633e-02-0.20268093j  2.28265506e-01-0.0926188j\n   1.34124769e-01-0.0868403j  -1.00390349e-01-0.26103833j\n   6.68447913e-02+0.01242433j -1.99428198e-02-0.0134447j\n  -8.49709786e-02-0.19547284j -1.04406609e-01+0.07120604j\n   4.01781739e-02-0.03605345j  9.33144964e-02-0.22965494j]\n [ 1.16675640e-01+0.0426111j  -2.61193826e-02-0.05262481j\n  -5.21656416e-02-0.07419023j  3.04359464e-03-0.00949348j\n  -1.64394472e-02-0.04942947j  3.99898067e-01+0.j\n   2.05278558e-01+0.1511772j   6.87932297e-02-0.0681048j\n  -2.73678751e-01-0.21817003j  6.01202045e-02-0.09217083j\n  -2.95749718e-01-0.1214175j   2.13416173e-02-0.05137124j\n   2.02372449e-01-0.00806586j  2.08462548e-01+0.15502058j\n  -2.90846970e-02-0.08145725j -2.95549834e-01-0.23166412j\n   5.64077987e-02-0.11237889j -2.08712122e-01-0.13591073j\n  -2.08235681e-01+0.01804687j  5.41883948e-02-0.15129425j\n  -3.05601625e-02+0.07166669j  4.22021097e-02-0.03513514j\n   1.09430576e-01-0.13609293j  7.22391216e-02-0.01386363j\n  -2.64238377e-02-0.03797101j -8.99336927e-02-0.1905267j ]\n [ 1.16675640e-01-0.0426111j  -2.61193826e-02+0.05262481j\n  -5.21656416e-02+0.07419023j  3.04359464e-03+0.00949348j\n  -1.64394472e-02+0.04942947j  3.99898067e-01-0.j\n   2.05278558e-01-0.1511772j   6.87932297e-02+0.0681048j\n  -2.73678751e-01+0.21817003j  6.01202045e-02+0.09217083j\n  -2.95749718e-01+0.1214175j   2.13416173e-02+0.05137124j\n   2.02372449e-01+0.00806586j  2.08462548e-01-0.15502058j\n  -2.90846970e-02+0.08145725j -2.95549834e-01+0.23166412j\n   5.64077987e-02+0.11237889j -2.08712122e-01+0.13591073j\n  -2.08235681e-01-0.01804687j  5.41883948e-02+0.15129425j\n  -3.05601625e-02-0.07166669j  4.22021097e-02+0.03513514j\n   1.09430576e-01+0.13609293j  7.22391216e-02+0.01386363j\n  -2.64238377e-02+0.03797101j -8.99336927e-02+0.1905267j ]\n [-4.09368058e-02+0.j          8.70031929e-03+0.j\n   1.17021209e-01+0.j          7.99153902e-02+0.j\n  -2.54207117e-02+0.j         -2.15668999e-01+0.j\n   1.90425848e-02+0.j         -2.98469345e-01+0.j\n  -1.74787743e-01+0.j          9.96026552e-02+0.j\n  -3.72682844e-01+0.j         -1.95850314e-01+0.j\n  -4.69319281e-01+0.j          1.97758840e-01+0.j\n   6.70964362e-02+0.j          1.25077733e-01+0.j\n   4.02416245e-02+0.j          1.66111607e-01+0.j\n   1.27003378e-01+0.j          1.48081492e-01+0.j\n  -6.50558294e-02+0.j          2.23230362e-02+0.j\n   3.47308375e-01+0.j         -1.22718519e-01+0.j\n   3.04946460e-01+0.j         -2.08923515e-01+0.j        ]\n [ 1.56670438e-01+0.10852861j -9.88953654e-02-0.00254521j\n  -7.28489068e-02-0.01914857j -1.58043614e-01-0.05241374j\n  -1.05862827e-01-0.09050776j  3.11928676e-01+0.04082177j\n   5.17323655e-02+0.1850528j  -8.36761547e-03-0.20037525j\n   1.20973399e-01+0.04082754j  9.25337602e-02+0.11757667j\n  -1.28234016e-01-0.33567807j  1.34587822e-01-0.01197459j\n   4.32177053e-01+0.j         -1.32889451e-02+0.16225519j\n  -1.08995358e-01-0.00840314j  1.26586330e-01+0.0924199j\n  -1.04198876e-01+0.01314967j -2.35737800e-01-0.08078872j\n   1.12373842e-01+0.0971397j   5.12951440e-02+0.11059689j\n  -7.06222830e-02-0.08557234j  1.14927945e-01+0.06632047j\n  -1.37738025e-01+0.08505856j  2.06017000e-01+0.05136284j\n  -2.28064416e-01-0.00930843j  8.72112464e-02-0.13473046j]\n [ 1.56670438e-01-0.10852861j -9.88953654e-02+0.00254521j\n  -7.28489068e-02+0.01914857j -1.58043614e-01+0.05241374j\n  -1.05862827e-01+0.09050776j  3.11928676e-01-0.04082177j\n   5.17323655e-02-0.1850528j  -8.36761547e-03+0.20037525j\n   1.20973399e-01-0.04082754j  9.25337602e-02-0.11757667j\n  -1.28234016e-01+0.33567807j  1.34587822e-01+0.01197459j\n   4.32177053e-01-0.j         -1.32889451e-02-0.16225519j\n  -1.08995358e-01+0.00840314j  1.26586330e-01-0.0924199j\n  -1.04198876e-01-0.01314967j -2.35737800e-01+0.08078872j\n   1.12373842e-01-0.0971397j   5.12951440e-02-0.11059689j\n  -7.06222830e-02+0.08557234j  1.14927945e-01-0.06632047j\n  -1.37738025e-01-0.08505856j  2.06017000e-01-0.05136284j\n  -2.28064416e-01+0.00930843j  8.72112464e-02+0.13473046j]\n [-1.80544468e-01+0.j          6.76125952e-02+0.j\n   1.21222543e-01+0.j          1.21763657e-01+0.j\n   1.90208236e-01+0.j         -2.35695864e-01+0.j\n  -3.95082305e-01+0.j          1.87178972e-01+0.j\n  -1.98576588e-01+0.j         -2.00850206e-01+0.j\n   3.69216107e-01+0.j         -9.70758279e-02+0.j\n  -2.61275142e-01+0.j         -2.43696000e-01+0.j\n   5.45915243e-02+0.j         -1.74882686e-01+0.j\n   1.58288434e-01+0.j          2.07079276e-01+0.j\n  -2.00389961e-01+0.j         -1.20382718e-01+0.j\n   1.42623170e-01+0.j         -1.54906772e-01+0.j\n   3.96951067e-02+0.j         -1.90334937e-01+0.j\n   2.16063204e-01+0.j          1.10949633e-01+0.j        ]\n [-1.25322505e-01+0.j         -7.85083250e-03+0.j\n   1.19336441e-01+0.j          1.98548638e-02+0.j\n   1.97745880e-01+0.j         -5.46102649e-02+0.j\n  -5.70729633e-01+0.j          2.77997025e-01+0.j\n  -1.57032799e-01+0.j         -1.89929233e-01+0.j\n   4.10938053e-01+0.j          8.39746658e-03+0.j\n   1.27996159e-01+0.j         -2.87755140e-01+0.j\n   2.28628243e-02+0.j         -1.78223275e-01+0.j\n   1.07158429e-01+0.j          1.55186424e-01+0.j\n   3.33234371e-03+0.j         -1.14101877e-01+0.j\n   1.77356413e-01+0.j         -8.23513787e-02+0.j\n  -5.49758677e-02+0.j         -8.82908893e-02+0.j\n   1.25516381e-01+0.j          2.23486976e-01+0.j        ]]\n"
     ]
    }
   ],
   "source": [
    "# Insira seu código aqui\n",
    "P = Eo.T\n",
    "print(P)"
   ]
  },
  {
   "cell_type": "markdown",
   "metadata": {
    "id": "TvL9beoO3drS"
   },
   "source": [
    "**1.2.6** Com a matriz **P** de componentes principais, podemos transformar os dados originais **Xz** com esses novos componentes. Para isso, podemos simplesmente multiplicar a matriz de dados **Xz** por **P**, e obter os dados transformados **Y**:\n",
    "\n",
    "$$Y = PX$$\n",
    "\n",
    "Obtenha essa projeção **Y** dos dados a seguir (salve o resultado em uma variável chamada **Y**):"
   ]
  },
  {
   "cell_type": "code",
   "execution_count": 32,
   "metadata": {
    "colab": {
     "base_uri": "https://localhost:8080/"
    },
    "executionInfo": {
     "elapsed": 609,
     "status": "ok",
     "timestamp": 1612909125093,
     "user": {
      "displayName": "Jackson Junior",
      "photoUrl": "",
      "userId": "16895407633732577357"
     },
     "user_tz": 180
    },
    "id": "GCIzFiFC3_bo",
    "outputId": "3c860f25-8013-472c-9caa-3af344dabe7d"
   },
   "outputs": [],
   "source": [
    "# Insira seu código aqui\n",
    "Y = P @ Xz"
   ]
  },
  {
   "cell_type": "markdown",
   "metadata": {
    "id": "kw85aWjH4CL7"
   },
   "source": [
    "**1.2.7** Por fim, podemos ver que a matriz **Y** obtida anteriormente com os dados transformados utiliza todos os componentes principais. Porém, quando usamos o PCA tipicamente queremos usar menos componentes principais para obter uma redução de dimensionalidade dos dados. Obtenha a reconstrução dos dados **Xz** usando apenas os 3 primeiros componentes principais. Para isso, fazemos a mesma operação feita acima, porém considerando apenas as 3 primeiras linhas de P. Faça essa operação a seguir e salve o resultado em **Y_3**:"
   ]
  },
  {
   "cell_type": "code",
   "execution_count": 33,
   "metadata": {
    "colab": {
     "base_uri": "https://localhost:8080/"
    },
    "executionInfo": {
     "elapsed": 692,
     "status": "ok",
     "timestamp": 1612909281348,
     "user": {
      "displayName": "Jackson Junior",
      "photoUrl": "",
      "userId": "16895407633732577357"
     },
     "user_tz": 180
    },
    "id": "k7uBDssY4ln3",
    "outputId": "bf9912ab-6dbc-4176-c0d4-0d23babe3996"
   },
   "outputs": [
    {
     "output_type": "stream",
     "name": "stdout",
     "text": [
      "[[ 0.22883059+0.j  0.56907242+0.j  1.54146372+0.j  1.446659  +0.j\n  -1.2119317 +0.j  0.63316613+0.j  1.02527741+0.j -0.30497616+0.j\n   1.42126504+0.j -0.1249075 +0.j -0.73230652+0.j -1.41051411+0.j]\n [ 0.76781315+0.j  1.77471796+0.j  0.88952389+0.j  0.04785153+0.j\n  -1.80696748+0.j -1.51668258+0.j  0.36559476+0.j -0.8561476 +0.j\n  -1.41023191+0.j -0.58487625+0.j -2.9036251 +0.j -2.02845783+0.j]\n [ 2.53481398+0.j  0.4617387 +0.j  0.34994743+0.j  1.82963451+0.j\n   0.8892193 +0.j -1.43629337+0.j  1.78566351+0.j  1.09784387+0.j\n   0.13214669+0.j -0.68099904+0.j -0.44861721+0.j  1.02966929+0.j]]\n"
     ]
    }
   ],
   "source": [
    "# Insira seu código aqui\n",
    "Y_3 = P[0:3, :] @ Xz\n",
    "print(Y_3)"
   ]
  },
  {
   "cell_type": "markdown",
   "metadata": {
    "id": "standard-brook"
   },
   "source": [
    "### Questão 2 - Regressão Linear Simples\n",
    "\n",
    "Nesta questão faremos a regressão linear para uma das variáveis do imóvel. Buscaremos estabelecer uma relação entre o valor do imóvel e a área habitável do imóvel. Faremos o cálculo através da expressão analítica."
   ]
  },
  {
   "cell_type": "code",
   "execution_count": 34,
   "metadata": {
    "id": "thick-hybrid",
    "outputId": "9a6d28bd-6a08-48d2-9b9b-b473299ff3bf"
   },
   "outputs": [
    {
     "output_type": "display_data",
     "data": {
      "text/plain": "<Figure size 432x288 with 1 Axes>",
      "image/svg+xml": "<?xml version=\"1.0\" encoding=\"utf-8\" standalone=\"no\"?>\r\n<!DOCTYPE svg PUBLIC \"-//W3C//DTD SVG 1.1//EN\"\r\n  \"http://www.w3.org/Graphics/SVG/1.1/DTD/svg11.dtd\">\r\n<!-- Created with matplotlib (https://matplotlib.org/) -->\r\n<svg height=\"248.518125pt\" version=\"1.1\" viewBox=\"0 0 394.375 248.518125\" width=\"394.375pt\" xmlns=\"http://www.w3.org/2000/svg\" xmlns:xlink=\"http://www.w3.org/1999/xlink\">\r\n <metadata>\r\n  <rdf:RDF xmlns:cc=\"http://creativecommons.org/ns#\" xmlns:dc=\"http://purl.org/dc/elements/1.1/\" xmlns:rdf=\"http://www.w3.org/1999/02/22-rdf-syntax-ns#\">\r\n   <cc:Work>\r\n    <dc:type rdf:resource=\"http://purl.org/dc/dcmitype/StillImage\"/>\r\n    <dc:date>2021-02-27T16:34:51.751902</dc:date>\r\n    <dc:format>image/svg+xml</dc:format>\r\n    <dc:creator>\r\n     <cc:Agent>\r\n      <dc:title>Matplotlib v3.3.4, https://matplotlib.org/</dc:title>\r\n     </cc:Agent>\r\n    </dc:creator>\r\n   </cc:Work>\r\n  </rdf:RDF>\r\n </metadata>\r\n <defs>\r\n  <style type=\"text/css\">*{stroke-linecap:butt;stroke-linejoin:round;}</style>\r\n </defs>\r\n <g id=\"figure_1\">\r\n  <g id=\"patch_1\">\r\n   <path d=\"M 0 248.518125 \r\nL 394.375 248.518125 \r\nL 394.375 0 \r\nL 0 0 \r\nz\r\n\" style=\"fill:none;\"/>\r\n  </g>\r\n  <g id=\"axes_1\">\r\n   <g id=\"patch_2\">\r\n    <path d=\"M 52.375 224.64 \r\nL 387.175 224.64 \r\nL 387.175 7.2 \r\nL 52.375 7.2 \r\nz\r\n\" style=\"fill:#ffffff;\"/>\r\n   </g>\r\n   <g id=\"matplotlib.axis_1\">\r\n    <g id=\"xtick_1\">\r\n     <g id=\"line2d_1\">\r\n      <defs>\r\n       <path d=\"M 0 0 \r\nL 0 3.5 \r\n\" id=\"m721e6df534\" style=\"stroke:#000000;stroke-width:0.8;\"/>\r\n      </defs>\r\n      <g>\r\n       <use style=\"stroke:#000000;stroke-width:0.8;\" x=\"92.684091\" xlink:href=\"#m721e6df534\" y=\"224.64\"/>\r\n      </g>\r\n     </g>\r\n     <g id=\"text_1\">\r\n      <!-- 1000 -->\r\n      <g transform=\"translate(79.959091 239.238437)scale(0.1 -0.1)\">\r\n       <defs>\r\n        <path d=\"M 12.40625 8.296875 \r\nL 28.515625 8.296875 \r\nL 28.515625 63.921875 \r\nL 10.984375 60.40625 \r\nL 10.984375 69.390625 \r\nL 28.421875 72.90625 \r\nL 38.28125 72.90625 \r\nL 38.28125 8.296875 \r\nL 54.390625 8.296875 \r\nL 54.390625 0 \r\nL 12.40625 0 \r\nz\r\n\" id=\"DejaVuSans-49\"/>\r\n        <path d=\"M 31.78125 66.40625 \r\nQ 24.171875 66.40625 20.328125 58.90625 \r\nQ 16.5 51.421875 16.5 36.375 \r\nQ 16.5 21.390625 20.328125 13.890625 \r\nQ 24.171875 6.390625 31.78125 6.390625 \r\nQ 39.453125 6.390625 43.28125 13.890625 \r\nQ 47.125 21.390625 47.125 36.375 \r\nQ 47.125 51.421875 43.28125 58.90625 \r\nQ 39.453125 66.40625 31.78125 66.40625 \r\nz\r\nM 31.78125 74.21875 \r\nQ 44.046875 74.21875 50.515625 64.515625 \r\nQ 56.984375 54.828125 56.984375 36.375 \r\nQ 56.984375 17.96875 50.515625 8.265625 \r\nQ 44.046875 -1.421875 31.78125 -1.421875 \r\nQ 19.53125 -1.421875 13.0625 8.265625 \r\nQ 6.59375 17.96875 6.59375 36.375 \r\nQ 6.59375 54.828125 13.0625 64.515625 \r\nQ 19.53125 74.21875 31.78125 74.21875 \r\nz\r\n\" id=\"DejaVuSans-48\"/>\r\n       </defs>\r\n       <use xlink:href=\"#DejaVuSans-49\"/>\r\n       <use x=\"63.623047\" xlink:href=\"#DejaVuSans-48\"/>\r\n       <use x=\"127.246094\" xlink:href=\"#DejaVuSans-48\"/>\r\n       <use x=\"190.869141\" xlink:href=\"#DejaVuSans-48\"/>\r\n      </g>\r\n     </g>\r\n    </g>\r\n    <g id=\"xtick_2\">\r\n     <g id=\"line2d_2\">\r\n      <g>\r\n       <use style=\"stroke:#000000;stroke-width:0.8;\" x=\"147.229545\" xlink:href=\"#m721e6df534\" y=\"224.64\"/>\r\n      </g>\r\n     </g>\r\n     <g id=\"text_2\">\r\n      <!-- 1500 -->\r\n      <g transform=\"translate(134.504545 239.238437)scale(0.1 -0.1)\">\r\n       <defs>\r\n        <path d=\"M 10.796875 72.90625 \r\nL 49.515625 72.90625 \r\nL 49.515625 64.59375 \r\nL 19.828125 64.59375 \r\nL 19.828125 46.734375 \r\nQ 21.96875 47.46875 24.109375 47.828125 \r\nQ 26.265625 48.1875 28.421875 48.1875 \r\nQ 40.625 48.1875 47.75 41.5 \r\nQ 54.890625 34.8125 54.890625 23.390625 \r\nQ 54.890625 11.625 47.5625 5.09375 \r\nQ 40.234375 -1.421875 26.90625 -1.421875 \r\nQ 22.3125 -1.421875 17.546875 -0.640625 \r\nQ 12.796875 0.140625 7.71875 1.703125 \r\nL 7.71875 11.625 \r\nQ 12.109375 9.234375 16.796875 8.0625 \r\nQ 21.484375 6.890625 26.703125 6.890625 \r\nQ 35.15625 6.890625 40.078125 11.328125 \r\nQ 45.015625 15.765625 45.015625 23.390625 \r\nQ 45.015625 31 40.078125 35.4375 \r\nQ 35.15625 39.890625 26.703125 39.890625 \r\nQ 22.75 39.890625 18.8125 39.015625 \r\nQ 14.890625 38.140625 10.796875 36.28125 \r\nz\r\n\" id=\"DejaVuSans-53\"/>\r\n       </defs>\r\n       <use xlink:href=\"#DejaVuSans-49\"/>\r\n       <use x=\"63.623047\" xlink:href=\"#DejaVuSans-53\"/>\r\n       <use x=\"127.246094\" xlink:href=\"#DejaVuSans-48\"/>\r\n       <use x=\"190.869141\" xlink:href=\"#DejaVuSans-48\"/>\r\n      </g>\r\n     </g>\r\n    </g>\r\n    <g id=\"xtick_3\">\r\n     <g id=\"line2d_3\">\r\n      <g>\r\n       <use style=\"stroke:#000000;stroke-width:0.8;\" x=\"201.775\" xlink:href=\"#m721e6df534\" y=\"224.64\"/>\r\n      </g>\r\n     </g>\r\n     <g id=\"text_3\">\r\n      <!-- 2000 -->\r\n      <g transform=\"translate(189.05 239.238437)scale(0.1 -0.1)\">\r\n       <defs>\r\n        <path d=\"M 19.1875 8.296875 \r\nL 53.609375 8.296875 \r\nL 53.609375 0 \r\nL 7.328125 0 \r\nL 7.328125 8.296875 \r\nQ 12.9375 14.109375 22.625 23.890625 \r\nQ 32.328125 33.6875 34.8125 36.53125 \r\nQ 39.546875 41.84375 41.421875 45.53125 \r\nQ 43.3125 49.21875 43.3125 52.78125 \r\nQ 43.3125 58.59375 39.234375 62.25 \r\nQ 35.15625 65.921875 28.609375 65.921875 \r\nQ 23.96875 65.921875 18.8125 64.3125 \r\nQ 13.671875 62.703125 7.8125 59.421875 \r\nL 7.8125 69.390625 \r\nQ 13.765625 71.78125 18.9375 73 \r\nQ 24.125 74.21875 28.421875 74.21875 \r\nQ 39.75 74.21875 46.484375 68.546875 \r\nQ 53.21875 62.890625 53.21875 53.421875 \r\nQ 53.21875 48.921875 51.53125 44.890625 \r\nQ 49.859375 40.875 45.40625 35.40625 \r\nQ 44.1875 33.984375 37.640625 27.21875 \r\nQ 31.109375 20.453125 19.1875 8.296875 \r\nz\r\n\" id=\"DejaVuSans-50\"/>\r\n       </defs>\r\n       <use xlink:href=\"#DejaVuSans-50\"/>\r\n       <use x=\"63.623047\" xlink:href=\"#DejaVuSans-48\"/>\r\n       <use x=\"127.246094\" xlink:href=\"#DejaVuSans-48\"/>\r\n       <use x=\"190.869141\" xlink:href=\"#DejaVuSans-48\"/>\r\n      </g>\r\n     </g>\r\n    </g>\r\n    <g id=\"xtick_4\">\r\n     <g id=\"line2d_4\">\r\n      <g>\r\n       <use style=\"stroke:#000000;stroke-width:0.8;\" x=\"256.320455\" xlink:href=\"#m721e6df534\" y=\"224.64\"/>\r\n      </g>\r\n     </g>\r\n     <g id=\"text_4\">\r\n      <!-- 2500 -->\r\n      <g transform=\"translate(243.595455 239.238437)scale(0.1 -0.1)\">\r\n       <use xlink:href=\"#DejaVuSans-50\"/>\r\n       <use x=\"63.623047\" xlink:href=\"#DejaVuSans-53\"/>\r\n       <use x=\"127.246094\" xlink:href=\"#DejaVuSans-48\"/>\r\n       <use x=\"190.869141\" xlink:href=\"#DejaVuSans-48\"/>\r\n      </g>\r\n     </g>\r\n    </g>\r\n    <g id=\"xtick_5\">\r\n     <g id=\"line2d_5\">\r\n      <g>\r\n       <use style=\"stroke:#000000;stroke-width:0.8;\" x=\"310.865909\" xlink:href=\"#m721e6df534\" y=\"224.64\"/>\r\n      </g>\r\n     </g>\r\n     <g id=\"text_5\">\r\n      <!-- 3000 -->\r\n      <g transform=\"translate(298.140909 239.238437)scale(0.1 -0.1)\">\r\n       <defs>\r\n        <path d=\"M 40.578125 39.3125 \r\nQ 47.65625 37.796875 51.625 33 \r\nQ 55.609375 28.21875 55.609375 21.1875 \r\nQ 55.609375 10.40625 48.1875 4.484375 \r\nQ 40.765625 -1.421875 27.09375 -1.421875 \r\nQ 22.515625 -1.421875 17.65625 -0.515625 \r\nQ 12.796875 0.390625 7.625 2.203125 \r\nL 7.625 11.71875 \r\nQ 11.71875 9.328125 16.59375 8.109375 \r\nQ 21.484375 6.890625 26.8125 6.890625 \r\nQ 36.078125 6.890625 40.9375 10.546875 \r\nQ 45.796875 14.203125 45.796875 21.1875 \r\nQ 45.796875 27.640625 41.28125 31.265625 \r\nQ 36.765625 34.90625 28.71875 34.90625 \r\nL 20.21875 34.90625 \r\nL 20.21875 43.015625 \r\nL 29.109375 43.015625 \r\nQ 36.375 43.015625 40.234375 45.921875 \r\nQ 44.09375 48.828125 44.09375 54.296875 \r\nQ 44.09375 59.90625 40.109375 62.90625 \r\nQ 36.140625 65.921875 28.71875 65.921875 \r\nQ 24.65625 65.921875 20.015625 65.03125 \r\nQ 15.375 64.15625 9.8125 62.3125 \r\nL 9.8125 71.09375 \r\nQ 15.4375 72.65625 20.34375 73.4375 \r\nQ 25.25 74.21875 29.59375 74.21875 \r\nQ 40.828125 74.21875 47.359375 69.109375 \r\nQ 53.90625 64.015625 53.90625 55.328125 \r\nQ 53.90625 49.265625 50.4375 45.09375 \r\nQ 46.96875 40.921875 40.578125 39.3125 \r\nz\r\n\" id=\"DejaVuSans-51\"/>\r\n       </defs>\r\n       <use xlink:href=\"#DejaVuSans-51\"/>\r\n       <use x=\"63.623047\" xlink:href=\"#DejaVuSans-48\"/>\r\n       <use x=\"127.246094\" xlink:href=\"#DejaVuSans-48\"/>\r\n       <use x=\"190.869141\" xlink:href=\"#DejaVuSans-48\"/>\r\n      </g>\r\n     </g>\r\n    </g>\r\n    <g id=\"xtick_6\">\r\n     <g id=\"line2d_6\">\r\n      <g>\r\n       <use style=\"stroke:#000000;stroke-width:0.8;\" x=\"365.411364\" xlink:href=\"#m721e6df534\" y=\"224.64\"/>\r\n      </g>\r\n     </g>\r\n     <g id=\"text_6\">\r\n      <!-- 3500 -->\r\n      <g transform=\"translate(352.686364 239.238437)scale(0.1 -0.1)\">\r\n       <use xlink:href=\"#DejaVuSans-51\"/>\r\n       <use x=\"63.623047\" xlink:href=\"#DejaVuSans-53\"/>\r\n       <use x=\"127.246094\" xlink:href=\"#DejaVuSans-48\"/>\r\n       <use x=\"190.869141\" xlink:href=\"#DejaVuSans-48\"/>\r\n      </g>\r\n     </g>\r\n    </g>\r\n   </g>\r\n   <g id=\"matplotlib.axis_2\">\r\n    <g id=\"ytick_1\">\r\n     <g id=\"line2d_7\">\r\n      <defs>\r\n       <path d=\"M 0 0 \r\nL -3.5 0 \r\n\" id=\"m3cb8a3d8f4\" style=\"stroke:#000000;stroke-width:0.8;\"/>\r\n      </defs>\r\n      <g>\r\n       <use style=\"stroke:#000000;stroke-width:0.8;\" x=\"52.375\" xlink:href=\"#m3cb8a3d8f4\" y=\"206.638387\"/>\r\n      </g>\r\n     </g>\r\n     <g id=\"text_7\">\r\n      <!-- 200000 -->\r\n      <g transform=\"translate(7.2 210.437606)scale(0.1 -0.1)\">\r\n       <use xlink:href=\"#DejaVuSans-50\"/>\r\n       <use x=\"63.623047\" xlink:href=\"#DejaVuSans-48\"/>\r\n       <use x=\"127.246094\" xlink:href=\"#DejaVuSans-48\"/>\r\n       <use x=\"190.869141\" xlink:href=\"#DejaVuSans-48\"/>\r\n       <use x=\"254.492188\" xlink:href=\"#DejaVuSans-48\"/>\r\n       <use x=\"318.115234\" xlink:href=\"#DejaVuSans-48\"/>\r\n      </g>\r\n     </g>\r\n    </g>\r\n    <g id=\"ytick_2\">\r\n     <g id=\"line2d_8\">\r\n      <g>\r\n       <use style=\"stroke:#000000;stroke-width:0.8;\" x=\"52.375\" xlink:href=\"#m3cb8a3d8f4\" y=\"166.048505\"/>\r\n      </g>\r\n     </g>\r\n     <g id=\"text_8\">\r\n      <!-- 300000 -->\r\n      <g transform=\"translate(7.2 169.847724)scale(0.1 -0.1)\">\r\n       <use xlink:href=\"#DejaVuSans-51\"/>\r\n       <use x=\"63.623047\" xlink:href=\"#DejaVuSans-48\"/>\r\n       <use x=\"127.246094\" xlink:href=\"#DejaVuSans-48\"/>\r\n       <use x=\"190.869141\" xlink:href=\"#DejaVuSans-48\"/>\r\n       <use x=\"254.492188\" xlink:href=\"#DejaVuSans-48\"/>\r\n       <use x=\"318.115234\" xlink:href=\"#DejaVuSans-48\"/>\r\n      </g>\r\n     </g>\r\n    </g>\r\n    <g id=\"ytick_3\">\r\n     <g id=\"line2d_9\">\r\n      <g>\r\n       <use style=\"stroke:#000000;stroke-width:0.8;\" x=\"52.375\" xlink:href=\"#m3cb8a3d8f4\" y=\"125.458622\"/>\r\n      </g>\r\n     </g>\r\n     <g id=\"text_9\">\r\n      <!-- 400000 -->\r\n      <g transform=\"translate(7.2 129.257841)scale(0.1 -0.1)\">\r\n       <defs>\r\n        <path d=\"M 37.796875 64.3125 \r\nL 12.890625 25.390625 \r\nL 37.796875 25.390625 \r\nz\r\nM 35.203125 72.90625 \r\nL 47.609375 72.90625 \r\nL 47.609375 25.390625 \r\nL 58.015625 25.390625 \r\nL 58.015625 17.1875 \r\nL 47.609375 17.1875 \r\nL 47.609375 0 \r\nL 37.796875 0 \r\nL 37.796875 17.1875 \r\nL 4.890625 17.1875 \r\nL 4.890625 26.703125 \r\nz\r\n\" id=\"DejaVuSans-52\"/>\r\n       </defs>\r\n       <use xlink:href=\"#DejaVuSans-52\"/>\r\n       <use x=\"63.623047\" xlink:href=\"#DejaVuSans-48\"/>\r\n       <use x=\"127.246094\" xlink:href=\"#DejaVuSans-48\"/>\r\n       <use x=\"190.869141\" xlink:href=\"#DejaVuSans-48\"/>\r\n       <use x=\"254.492188\" xlink:href=\"#DejaVuSans-48\"/>\r\n       <use x=\"318.115234\" xlink:href=\"#DejaVuSans-48\"/>\r\n      </g>\r\n     </g>\r\n    </g>\r\n    <g id=\"ytick_4\">\r\n     <g id=\"line2d_10\">\r\n      <g>\r\n       <use style=\"stroke:#000000;stroke-width:0.8;\" x=\"52.375\" xlink:href=\"#m3cb8a3d8f4\" y=\"84.86874\"/>\r\n      </g>\r\n     </g>\r\n     <g id=\"text_10\">\r\n      <!-- 500000 -->\r\n      <g transform=\"translate(7.2 88.667959)scale(0.1 -0.1)\">\r\n       <use xlink:href=\"#DejaVuSans-53\"/>\r\n       <use x=\"63.623047\" xlink:href=\"#DejaVuSans-48\"/>\r\n       <use x=\"127.246094\" xlink:href=\"#DejaVuSans-48\"/>\r\n       <use x=\"190.869141\" xlink:href=\"#DejaVuSans-48\"/>\r\n       <use x=\"254.492188\" xlink:href=\"#DejaVuSans-48\"/>\r\n       <use x=\"318.115234\" xlink:href=\"#DejaVuSans-48\"/>\r\n      </g>\r\n     </g>\r\n    </g>\r\n    <g id=\"ytick_5\">\r\n     <g id=\"line2d_11\">\r\n      <g>\r\n       <use style=\"stroke:#000000;stroke-width:0.8;\" x=\"52.375\" xlink:href=\"#m3cb8a3d8f4\" y=\"44.278858\"/>\r\n      </g>\r\n     </g>\r\n     <g id=\"text_11\">\r\n      <!-- 600000 -->\r\n      <g transform=\"translate(7.2 48.078076)scale(0.1 -0.1)\">\r\n       <defs>\r\n        <path d=\"M 33.015625 40.375 \r\nQ 26.375 40.375 22.484375 35.828125 \r\nQ 18.609375 31.296875 18.609375 23.390625 \r\nQ 18.609375 15.53125 22.484375 10.953125 \r\nQ 26.375 6.390625 33.015625 6.390625 \r\nQ 39.65625 6.390625 43.53125 10.953125 \r\nQ 47.40625 15.53125 47.40625 23.390625 \r\nQ 47.40625 31.296875 43.53125 35.828125 \r\nQ 39.65625 40.375 33.015625 40.375 \r\nz\r\nM 52.59375 71.296875 \r\nL 52.59375 62.3125 \r\nQ 48.875 64.0625 45.09375 64.984375 \r\nQ 41.3125 65.921875 37.59375 65.921875 \r\nQ 27.828125 65.921875 22.671875 59.328125 \r\nQ 17.53125 52.734375 16.796875 39.40625 \r\nQ 19.671875 43.65625 24.015625 45.921875 \r\nQ 28.375 48.1875 33.59375 48.1875 \r\nQ 44.578125 48.1875 50.953125 41.515625 \r\nQ 57.328125 34.859375 57.328125 23.390625 \r\nQ 57.328125 12.15625 50.6875 5.359375 \r\nQ 44.046875 -1.421875 33.015625 -1.421875 \r\nQ 20.359375 -1.421875 13.671875 8.265625 \r\nQ 6.984375 17.96875 6.984375 36.375 \r\nQ 6.984375 53.65625 15.1875 63.9375 \r\nQ 23.390625 74.21875 37.203125 74.21875 \r\nQ 40.921875 74.21875 44.703125 73.484375 \r\nQ 48.484375 72.75 52.59375 71.296875 \r\nz\r\n\" id=\"DejaVuSans-54\"/>\r\n       </defs>\r\n       <use xlink:href=\"#DejaVuSans-54\"/>\r\n       <use x=\"63.623047\" xlink:href=\"#DejaVuSans-48\"/>\r\n       <use x=\"127.246094\" xlink:href=\"#DejaVuSans-48\"/>\r\n       <use x=\"190.869141\" xlink:href=\"#DejaVuSans-48\"/>\r\n       <use x=\"254.492188\" xlink:href=\"#DejaVuSans-48\"/>\r\n       <use x=\"318.115234\" xlink:href=\"#DejaVuSans-48\"/>\r\n      </g>\r\n     </g>\r\n    </g>\r\n   </g>\r\n   <g id=\"line2d_12\">\r\n    <defs>\r\n     <path d=\"M 0 3 \r\nC 0.795609 3 1.55874 2.683901 2.12132 2.12132 \r\nC 2.683901 1.55874 3 0.795609 3 0 \r\nC 3 -0.795609 2.683901 -1.55874 2.12132 -2.12132 \r\nC 1.55874 -2.683901 0.795609 -3 0 -3 \r\nC -0.795609 -3 -1.55874 -2.683901 -2.12132 -2.12132 \r\nC -2.683901 -1.55874 -3 -0.795609 -3 0 \r\nC -3 0.795609 -2.683901 1.55874 -2.12132 2.12132 \r\nC -1.55874 2.683901 -0.795609 3 0 3 \r\nz\r\n\" id=\"m19c6236a1c\" style=\"stroke:#ff0000;\"/>\r\n    </defs>\r\n    <g clip-path=\"url(#p5204da604f)\">\r\n     <use style=\"fill:#ff0000;stroke:#ff0000;\" x=\"112.320455\" xlink:href=\"#m19c6236a1c\" y=\"197.749203\"/>\r\n     <use style=\"fill:#ff0000;stroke:#ff0000;\" x=\"263.956818\" xlink:href=\"#m19c6236a1c\" y=\"69.444585\"/>\r\n     <use style=\"fill:#ff0000;stroke:#ff0000;\" x=\"67.593182\" xlink:href=\"#m19c6236a1c\" y=\"214.756364\"/>\r\n     <use style=\"fill:#ff0000;stroke:#ff0000;\" x=\"197.411364\" xlink:href=\"#m19c6236a1c\" y=\"42.655262\"/>\r\n     <use style=\"fill:#ff0000;stroke:#ff0000;\" x=\"166.865909\" xlink:href=\"#m19c6236a1c\" y=\"80.809752\"/>\r\n     <use style=\"fill:#ff0000;stroke:#ff0000;\" x=\"170.684091\" xlink:href=\"#m19c6236a1c\" y=\"183.299205\"/>\r\n     <use style=\"fill:#ff0000;stroke:#ff0000;\" x=\"99.229545\" xlink:href=\"#m19c6236a1c\" y=\"169.35658\"/>\r\n     <use style=\"fill:#ff0000;stroke:#ff0000;\" x=\"177.775\" xlink:href=\"#m19c6236a1c\" y=\"194.664372\"/>\r\n     <use style=\"fill:#ff0000;stroke:#ff0000;\" x=\"189.775\" xlink:href=\"#m19c6236a1c\" y=\"156.712832\"/>\r\n     <use style=\"fill:#ff0000;stroke:#ff0000;\" x=\"371.956818\" xlink:href=\"#m19c6236a1c\" y=\"18.910181\"/>\r\n     <use style=\"fill:#ff0000;stroke:#ff0000;\" x=\"110.138636\" xlink:href=\"#m19c6236a1c\" y=\"97.857502\"/>\r\n     <use style=\"fill:#ff0000;stroke:#ff0000;\" x=\"139.593182\" xlink:href=\"#m19c6236a1c\" y=\"161.989517\"/>\r\n     <use style=\"fill:#ff0000;stroke:#ff0000;\" x=\"133.047727\" xlink:href=\"#m19c6236a1c\" y=\"125.458622\"/>\r\n     <use style=\"fill:#ff0000;stroke:#ff0000;\" x=\"181.047727\" xlink:href=\"#m19c6236a1c\" y=\"72.691775\"/>\r\n     <use style=\"fill:#ff0000;stroke:#ff0000;\" x=\"305.411364\" xlink:href=\"#m19c6236a1c\" y=\"23.983916\"/>\r\n     <use style=\"fill:#ff0000;stroke:#ff0000;\" x=\"189.775\" xlink:href=\"#m19c6236a1c\" y=\"127.488116\"/>\r\n     <use style=\"fill:#ff0000;stroke:#ff0000;\" x=\"158.138636\" xlink:href=\"#m19c6236a1c\" y=\"90.957222\"/>\r\n     <use style=\"fill:#ff0000;stroke:#ff0000;\" x=\"114.502273\" xlink:href=\"#m19c6236a1c\" y=\"211.103274\"/>\r\n     <use style=\"fill:#ff0000;stroke:#ff0000;\" x=\"119.956818\" xlink:href=\"#m19c6236a1c\" y=\"194.461422\"/>\r\n     <use style=\"fill:#ff0000;stroke:#ff0000;\" x=\"160.320455\" xlink:href=\"#m19c6236a1c\" y=\"131.547105\"/>\r\n     <use style=\"fill:#ff0000;stroke:#ff0000;\" x=\"231.229545\" xlink:href=\"#m19c6236a1c\" y=\"172.136987\"/>\r\n     <use style=\"fill:#ff0000;stroke:#ff0000;\" x=\"100.320455\" xlink:href=\"#m19c6236a1c\" y=\"185.247519\"/>\r\n     <use style=\"fill:#ff0000;stroke:#ff0000;\" x=\"250.865909\" xlink:href=\"#m19c6236a1c\" y=\"154.277439\"/>\r\n     <use style=\"fill:#ff0000;stroke:#ff0000;\" x=\"170.138636\" xlink:href=\"#m19c6236a1c\" y=\"193.243726\"/>\r\n     <use style=\"fill:#ff0000;stroke:#ff0000;\" x=\"136.320455\" xlink:href=\"#m19c6236a1c\" y=\"17.083636\"/>\r\n     <use style=\"fill:#ff0000;stroke:#ff0000;\" x=\"149.411364\" xlink:href=\"#m19c6236a1c\" y=\"110.034467\"/>\r\n    </g>\r\n   </g>\r\n   <g id=\"patch_3\">\r\n    <path d=\"M 52.375 224.64 \r\nL 52.375 7.2 \r\n\" style=\"fill:none;stroke:#000000;stroke-linecap:square;stroke-linejoin:miter;stroke-width:0.8;\"/>\r\n   </g>\r\n   <g id=\"patch_4\">\r\n    <path d=\"M 387.175 224.64 \r\nL 387.175 7.2 \r\n\" style=\"fill:none;stroke:#000000;stroke-linecap:square;stroke-linejoin:miter;stroke-width:0.8;\"/>\r\n   </g>\r\n   <g id=\"patch_5\">\r\n    <path d=\"M 52.375 224.64 \r\nL 387.175 224.64 \r\n\" style=\"fill:none;stroke:#000000;stroke-linecap:square;stroke-linejoin:miter;stroke-width:0.8;\"/>\r\n   </g>\r\n   <g id=\"patch_6\">\r\n    <path d=\"M 52.375 7.2 \r\nL 387.175 7.2 \r\n\" style=\"fill:none;stroke:#000000;stroke-linecap:square;stroke-linejoin:miter;stroke-width:0.8;\"/>\r\n   </g>\r\n  </g>\r\n </g>\r\n <defs>\r\n  <clipPath id=\"p5204da604f\">\r\n   <rect height=\"217.44\" width=\"334.8\" x=\"52.375\" y=\"7.2\"/>\r\n  </clipPath>\r\n </defs>\r\n</svg>\r\n",
      "image/png": "[encoded data removed]"
     },
     "metadata": {
      "needs_background": "light"
     }
    }
   ],
   "source": [
    "# ATENÇÃO: Não editar esta célula\n",
    "\n",
    "# selecionando os preços e as áreas habitáveis do imóvel\n",
    "Y = data[:,0] # Preço do imóvel\n",
    "X = data[:,3] # Área habitável do imóvel\n",
    "\n",
    "try:\n",
    "    plt.plot(X, Y, 'ro');\n",
    "except:\n",
    "    pass"
   ]
  },
  {
   "cell_type": "markdown",
   "metadata": {
    "id": "D1MgA-maaObz"
   },
   "source": [
    "Conforme pudemos acompanhar durante a [aula](https://youtu.be/4qwuwMbsUZA?t=2262), para casos simples podemos calcular a regressão através de uma expressão analítica. Os coeficientes $\\beta_1$ e $\\beta_0$ podem ser calculados diretamente através das sequintes formulas:\n",
    "\n",
    "$$\\beta_1 =  \\frac{\\sum_{i=1}^{n} ( \\textbf{x}_i - \\hat{x})(\\textbf{y}_i - \\hat{y}) }{\\sum_{i=1}^{n} ( \\textbf{x}_i - \\hat{x})^2} $$\n",
    "\n",
    "$$\\beta_0 =  \\hat{y} - \\beta_1 \\hat{x} $$\n",
    "\n",
    "**2.1** Calcule as médias dos valores de X e Y. Salve os valores obtidos nas variáveis **mu_x** e **mu_y**, respectivamente."
   ]
  },
  {
   "cell_type": "code",
   "execution_count": 35,
   "metadata": {
    "id": "lonely-certificate"
   },
   "outputs": [],
   "source": [
    "# Insira seu código aqui\n",
    "mu_x = np.sum(X)/X.shape[0]\n",
    "mu_y = np.sum(Y)/Y.shape[0]"
   ]
  },
  {
   "cell_type": "markdown",
   "metadata": {
    "id": "L78LObHLaObz"
   },
   "source": [
    "**2.2** Calcule so valores de $\\beta_1$ e de $\\beta_0$. Salve o valor nas variáveis **b1** e **b0**, respectivamente."
   ]
  },
  {
   "cell_type": "code",
   "execution_count": 36,
   "metadata": {
    "id": "compliant-indonesian"
   },
   "outputs": [],
   "source": [
    "# Insira seu código aqui\n",
    "b1 = np.inner((X - mu_x), Y) / np.sum(np.power(X - mu_x, 2))\n",
    "b0 = mu_y - b1*mu_x"
   ]
  },
  {
   "cell_type": "markdown",
   "metadata": {
    "id": "conscious-instrument"
   },
   "source": [
    "Com os valores de $\\beta_1$ e de $\\beta_0$ calculados já temos a regressão linear definida. O resultado da regressão poderá ser vista no gráfico abaixo.\n"
   ]
  },
  {
   "cell_type": "code",
   "execution_count": 37,
   "metadata": {
    "id": "interesting-attachment",
    "outputId": "bf46f349-7745-4ac7-b6cd-531739001039"
   },
   "outputs": [
    {
     "output_type": "display_data",
     "data": {
      "text/plain": "<Figure size 432x288 with 1 Axes>",
      "image/svg+xml": "<?xml version=\"1.0\" encoding=\"utf-8\" standalone=\"no\"?>\r\n<!DOCTYPE svg PUBLIC \"-//W3C//DTD SVG 1.1//EN\"\r\n  \"http://www.w3.org/Graphics/SVG/1.1/DTD/svg11.dtd\">\r\n<!-- Created with matplotlib (https://matplotlib.org/) -->\r\n<svg height=\"248.518125pt\" version=\"1.1\" viewBox=\"0 0 394.375 248.518125\" width=\"394.375pt\" xmlns=\"http://www.w3.org/2000/svg\" xmlns:xlink=\"http://www.w3.org/1999/xlink\">\r\n <metadata>\r\n  <rdf:RDF xmlns:cc=\"http://creativecommons.org/ns#\" xmlns:dc=\"http://purl.org/dc/elements/1.1/\" xmlns:rdf=\"http://www.w3.org/1999/02/22-rdf-syntax-ns#\">\r\n   <cc:Work>\r\n    <dc:type rdf:resource=\"http://purl.org/dc/dcmitype/StillImage\"/>\r\n    <dc:date>2021-02-27T16:34:52.619383</dc:date>\r\n    <dc:format>image/svg+xml</dc:format>\r\n    <dc:creator>\r\n     <cc:Agent>\r\n      <dc:title>Matplotlib v3.3.4, https://matplotlib.org/</dc:title>\r\n     </cc:Agent>\r\n    </dc:creator>\r\n   </cc:Work>\r\n  </rdf:RDF>\r\n </metadata>\r\n <defs>\r\n  <style type=\"text/css\">*{stroke-linecap:butt;stroke-linejoin:round;}</style>\r\n </defs>\r\n <g id=\"figure_1\">\r\n  <g id=\"patch_1\">\r\n   <path d=\"M 0 248.518125 \r\nL 394.375 248.518125 \r\nL 394.375 0 \r\nL 0 0 \r\nz\r\n\" style=\"fill:none;\"/>\r\n  </g>\r\n  <g id=\"axes_1\">\r\n   <g id=\"patch_2\">\r\n    <path d=\"M 52.375 224.64 \r\nL 387.175 224.64 \r\nL 387.175 7.2 \r\nL 52.375 7.2 \r\nz\r\n\" style=\"fill:#ffffff;\"/>\r\n   </g>\r\n   <g id=\"matplotlib.axis_1\">\r\n    <g id=\"xtick_1\">\r\n     <g id=\"line2d_1\">\r\n      <defs>\r\n       <path d=\"M 0 0 \r\nL 0 3.5 \r\n\" id=\"ma6baa941da\" style=\"stroke:#000000;stroke-width:0.8;\"/>\r\n      </defs>\r\n      <g>\r\n       <use style=\"stroke:#000000;stroke-width:0.8;\" x=\"67.593182\" xlink:href=\"#ma6baa941da\" y=\"224.64\"/>\r\n      </g>\r\n     </g>\r\n     <g id=\"text_1\">\r\n      <!-- 0 -->\r\n      <g transform=\"translate(64.411932 239.238437)scale(0.1 -0.1)\">\r\n       <defs>\r\n        <path d=\"M 31.78125 66.40625 \r\nQ 24.171875 66.40625 20.328125 58.90625 \r\nQ 16.5 51.421875 16.5 36.375 \r\nQ 16.5 21.390625 20.328125 13.890625 \r\nQ 24.171875 6.390625 31.78125 6.390625 \r\nQ 39.453125 6.390625 43.28125 13.890625 \r\nQ 47.125 21.390625 47.125 36.375 \r\nQ 47.125 51.421875 43.28125 58.90625 \r\nQ 39.453125 66.40625 31.78125 66.40625 \r\nz\r\nM 31.78125 74.21875 \r\nQ 44.046875 74.21875 50.515625 64.515625 \r\nQ 56.984375 54.828125 56.984375 36.375 \r\nQ 56.984375 17.96875 50.515625 8.265625 \r\nQ 44.046875 -1.421875 31.78125 -1.421875 \r\nQ 19.53125 -1.421875 13.0625 8.265625 \r\nQ 6.59375 17.96875 6.59375 36.375 \r\nQ 6.59375 54.828125 13.0625 64.515625 \r\nQ 19.53125 74.21875 31.78125 74.21875 \r\nz\r\n\" id=\"DejaVuSans-48\"/>\r\n       </defs>\r\n       <use xlink:href=\"#DejaVuSans-48\"/>\r\n      </g>\r\n     </g>\r\n    </g>\r\n    <g id=\"xtick_2\">\r\n     <g id=\"line2d_2\">\r\n      <g>\r\n       <use style=\"stroke:#000000;stroke-width:0.8;\" x=\"110.340884\" xlink:href=\"#ma6baa941da\" y=\"224.64\"/>\r\n      </g>\r\n     </g>\r\n     <g id=\"text_2\">\r\n      <!-- 500 -->\r\n      <g transform=\"translate(100.797134 239.238437)scale(0.1 -0.1)\">\r\n       <defs>\r\n        <path d=\"M 10.796875 72.90625 \r\nL 49.515625 72.90625 \r\nL 49.515625 64.59375 \r\nL 19.828125 64.59375 \r\nL 19.828125 46.734375 \r\nQ 21.96875 47.46875 24.109375 47.828125 \r\nQ 26.265625 48.1875 28.421875 48.1875 \r\nQ 40.625 48.1875 47.75 41.5 \r\nQ 54.890625 34.8125 54.890625 23.390625 \r\nQ 54.890625 11.625 47.5625 5.09375 \r\nQ 40.234375 -1.421875 26.90625 -1.421875 \r\nQ 22.3125 -1.421875 17.546875 -0.640625 \r\nQ 12.796875 0.140625 7.71875 1.703125 \r\nL 7.71875 11.625 \r\nQ 12.109375 9.234375 16.796875 8.0625 \r\nQ 21.484375 6.890625 26.703125 6.890625 \r\nQ 35.15625 6.890625 40.078125 11.328125 \r\nQ 45.015625 15.765625 45.015625 23.390625 \r\nQ 45.015625 31 40.078125 35.4375 \r\nQ 35.15625 39.890625 26.703125 39.890625 \r\nQ 22.75 39.890625 18.8125 39.015625 \r\nQ 14.890625 38.140625 10.796875 36.28125 \r\nz\r\n\" id=\"DejaVuSans-53\"/>\r\n       </defs>\r\n       <use xlink:href=\"#DejaVuSans-53\"/>\r\n       <use x=\"63.623047\" xlink:href=\"#DejaVuSans-48\"/>\r\n       <use x=\"127.246094\" xlink:href=\"#DejaVuSans-48\"/>\r\n      </g>\r\n     </g>\r\n    </g>\r\n    <g id=\"xtick_3\">\r\n     <g id=\"line2d_3\">\r\n      <g>\r\n       <use style=\"stroke:#000000;stroke-width:0.8;\" x=\"153.088585\" xlink:href=\"#ma6baa941da\" y=\"224.64\"/>\r\n      </g>\r\n     </g>\r\n     <g id=\"text_3\">\r\n      <!-- 1000 -->\r\n      <g transform=\"translate(140.363585 239.238437)scale(0.1 -0.1)\">\r\n       <defs>\r\n        <path d=\"M 12.40625 8.296875 \r\nL 28.515625 8.296875 \r\nL 28.515625 63.921875 \r\nL 10.984375 60.40625 \r\nL 10.984375 69.390625 \r\nL 28.421875 72.90625 \r\nL 38.28125 72.90625 \r\nL 38.28125 8.296875 \r\nL 54.390625 8.296875 \r\nL 54.390625 0 \r\nL 12.40625 0 \r\nz\r\n\" id=\"DejaVuSans-49\"/>\r\n       </defs>\r\n       <use xlink:href=\"#DejaVuSans-49\"/>\r\n       <use x=\"63.623047\" xlink:href=\"#DejaVuSans-48\"/>\r\n       <use x=\"127.246094\" xlink:href=\"#DejaVuSans-48\"/>\r\n       <use x=\"190.869141\" xlink:href=\"#DejaVuSans-48\"/>\r\n      </g>\r\n     </g>\r\n    </g>\r\n    <g id=\"xtick_4\">\r\n     <g id=\"line2d_4\">\r\n      <g>\r\n       <use style=\"stroke:#000000;stroke-width:0.8;\" x=\"195.836287\" xlink:href=\"#ma6baa941da\" y=\"224.64\"/>\r\n      </g>\r\n     </g>\r\n     <g id=\"text_4\">\r\n      <!-- 1500 -->\r\n      <g transform=\"translate(183.111287 239.238437)scale(0.1 -0.1)\">\r\n       <use xlink:href=\"#DejaVuSans-49\"/>\r\n       <use x=\"63.623047\" xlink:href=\"#DejaVuSans-53\"/>\r\n       <use x=\"127.246094\" xlink:href=\"#DejaVuSans-48\"/>\r\n       <use x=\"190.869141\" xlink:href=\"#DejaVuSans-48\"/>\r\n      </g>\r\n     </g>\r\n    </g>\r\n    <g id=\"xtick_5\">\r\n     <g id=\"line2d_5\">\r\n      <g>\r\n       <use style=\"stroke:#000000;stroke-width:0.8;\" x=\"238.583989\" xlink:href=\"#ma6baa941da\" y=\"224.64\"/>\r\n      </g>\r\n     </g>\r\n     <g id=\"text_5\">\r\n      <!-- 2000 -->\r\n      <g transform=\"translate(225.858989 239.238437)scale(0.1 -0.1)\">\r\n       <defs>\r\n        <path d=\"M 19.1875 8.296875 \r\nL 53.609375 8.296875 \r\nL 53.609375 0 \r\nL 7.328125 0 \r\nL 7.328125 8.296875 \r\nQ 12.9375 14.109375 22.625 23.890625 \r\nQ 32.328125 33.6875 34.8125 36.53125 \r\nQ 39.546875 41.84375 41.421875 45.53125 \r\nQ 43.3125 49.21875 43.3125 52.78125 \r\nQ 43.3125 58.59375 39.234375 62.25 \r\nQ 35.15625 65.921875 28.609375 65.921875 \r\nQ 23.96875 65.921875 18.8125 64.3125 \r\nQ 13.671875 62.703125 7.8125 59.421875 \r\nL 7.8125 69.390625 \r\nQ 13.765625 71.78125 18.9375 73 \r\nQ 24.125 74.21875 28.421875 74.21875 \r\nQ 39.75 74.21875 46.484375 68.546875 \r\nQ 53.21875 62.890625 53.21875 53.421875 \r\nQ 53.21875 48.921875 51.53125 44.890625 \r\nQ 49.859375 40.875 45.40625 35.40625 \r\nQ 44.1875 33.984375 37.640625 27.21875 \r\nQ 31.109375 20.453125 19.1875 8.296875 \r\nz\r\n\" id=\"DejaVuSans-50\"/>\r\n       </defs>\r\n       <use xlink:href=\"#DejaVuSans-50\"/>\r\n       <use x=\"63.623047\" xlink:href=\"#DejaVuSans-48\"/>\r\n       <use x=\"127.246094\" xlink:href=\"#DejaVuSans-48\"/>\r\n       <use x=\"190.869141\" xlink:href=\"#DejaVuSans-48\"/>\r\n      </g>\r\n     </g>\r\n    </g>\r\n    <g id=\"xtick_6\">\r\n     <g id=\"line2d_6\">\r\n      <g>\r\n       <use style=\"stroke:#000000;stroke-width:0.8;\" x=\"281.331691\" xlink:href=\"#ma6baa941da\" y=\"224.64\"/>\r\n      </g>\r\n     </g>\r\n     <g id=\"text_6\">\r\n      <!-- 2500 -->\r\n      <g transform=\"translate(268.606691 239.238437)scale(0.1 -0.1)\">\r\n       <use xlink:href=\"#DejaVuSans-50\"/>\r\n       <use x=\"63.623047\" xlink:href=\"#DejaVuSans-53\"/>\r\n       <use x=\"127.246094\" xlink:href=\"#DejaVuSans-48\"/>\r\n       <use x=\"190.869141\" xlink:href=\"#DejaVuSans-48\"/>\r\n      </g>\r\n     </g>\r\n    </g>\r\n    <g id=\"xtick_7\">\r\n     <g id=\"line2d_7\">\r\n      <g>\r\n       <use style=\"stroke:#000000;stroke-width:0.8;\" x=\"324.079392\" xlink:href=\"#ma6baa941da\" y=\"224.64\"/>\r\n      </g>\r\n     </g>\r\n     <g id=\"text_7\">\r\n      <!-- 3000 -->\r\n      <g transform=\"translate(311.354392 239.238437)scale(0.1 -0.1)\">\r\n       <defs>\r\n        <path d=\"M 40.578125 39.3125 \r\nQ 47.65625 37.796875 51.625 33 \r\nQ 55.609375 28.21875 55.609375 21.1875 \r\nQ 55.609375 10.40625 48.1875 4.484375 \r\nQ 40.765625 -1.421875 27.09375 -1.421875 \r\nQ 22.515625 -1.421875 17.65625 -0.515625 \r\nQ 12.796875 0.390625 7.625 2.203125 \r\nL 7.625 11.71875 \r\nQ 11.71875 9.328125 16.59375 8.109375 \r\nQ 21.484375 6.890625 26.8125 6.890625 \r\nQ 36.078125 6.890625 40.9375 10.546875 \r\nQ 45.796875 14.203125 45.796875 21.1875 \r\nQ 45.796875 27.640625 41.28125 31.265625 \r\nQ 36.765625 34.90625 28.71875 34.90625 \r\nL 20.21875 34.90625 \r\nL 20.21875 43.015625 \r\nL 29.109375 43.015625 \r\nQ 36.375 43.015625 40.234375 45.921875 \r\nQ 44.09375 48.828125 44.09375 54.296875 \r\nQ 44.09375 59.90625 40.109375 62.90625 \r\nQ 36.140625 65.921875 28.71875 65.921875 \r\nQ 24.65625 65.921875 20.015625 65.03125 \r\nQ 15.375 64.15625 9.8125 62.3125 \r\nL 9.8125 71.09375 \r\nQ 15.4375 72.65625 20.34375 73.4375 \r\nQ 25.25 74.21875 29.59375 74.21875 \r\nQ 40.828125 74.21875 47.359375 69.109375 \r\nQ 53.90625 64.015625 53.90625 55.328125 \r\nQ 53.90625 49.265625 50.4375 45.09375 \r\nQ 46.96875 40.921875 40.578125 39.3125 \r\nz\r\n\" id=\"DejaVuSans-51\"/>\r\n       </defs>\r\n       <use xlink:href=\"#DejaVuSans-51\"/>\r\n       <use x=\"63.623047\" xlink:href=\"#DejaVuSans-48\"/>\r\n       <use x=\"127.246094\" xlink:href=\"#DejaVuSans-48\"/>\r\n       <use x=\"190.869141\" xlink:href=\"#DejaVuSans-48\"/>\r\n      </g>\r\n     </g>\r\n    </g>\r\n    <g id=\"xtick_8\">\r\n     <g id=\"line2d_8\">\r\n      <g>\r\n       <use style=\"stroke:#000000;stroke-width:0.8;\" x=\"366.827094\" xlink:href=\"#ma6baa941da\" y=\"224.64\"/>\r\n      </g>\r\n     </g>\r\n     <g id=\"text_8\">\r\n      <!-- 3500 -->\r\n      <g transform=\"translate(354.102094 239.238437)scale(0.1 -0.1)\">\r\n       <use xlink:href=\"#DejaVuSans-51\"/>\r\n       <use x=\"63.623047\" xlink:href=\"#DejaVuSans-53\"/>\r\n       <use x=\"127.246094\" xlink:href=\"#DejaVuSans-48\"/>\r\n       <use x=\"190.869141\" xlink:href=\"#DejaVuSans-48\"/>\r\n      </g>\r\n     </g>\r\n    </g>\r\n   </g>\r\n   <g id=\"matplotlib.axis_2\">\r\n    <g id=\"ytick_1\">\r\n     <g id=\"line2d_9\">\r\n      <defs>\r\n       <path d=\"M 0 0 \r\nL -3.5 0 \r\n\" id=\"m5a30253f9e\" style=\"stroke:#000000;stroke-width:0.8;\"/>\r\n      </defs>\r\n      <g>\r\n       <use style=\"stroke:#000000;stroke-width:0.8;\" x=\"52.375\" xlink:href=\"#m5a30253f9e\" y=\"193.920388\"/>\r\n      </g>\r\n     </g>\r\n     <g id=\"text_9\">\r\n      <!-- 200000 -->\r\n      <g transform=\"translate(7.2 197.719607)scale(0.1 -0.1)\">\r\n       <use xlink:href=\"#DejaVuSans-50\"/>\r\n       <use x=\"63.623047\" xlink:href=\"#DejaVuSans-48\"/>\r\n       <use x=\"127.246094\" xlink:href=\"#DejaVuSans-48\"/>\r\n       <use x=\"190.869141\" xlink:href=\"#DejaVuSans-48\"/>\r\n       <use x=\"254.492188\" xlink:href=\"#DejaVuSans-48\"/>\r\n       <use x=\"318.115234\" xlink:href=\"#DejaVuSans-48\"/>\r\n      </g>\r\n     </g>\r\n    </g>\r\n    <g id=\"ytick_2\">\r\n     <g id=\"line2d_10\">\r\n      <g>\r\n       <use style=\"stroke:#000000;stroke-width:0.8;\" x=\"52.375\" xlink:href=\"#m5a30253f9e\" y=\"156.053846\"/>\r\n      </g>\r\n     </g>\r\n     <g id=\"text_10\">\r\n      <!-- 300000 -->\r\n      <g transform=\"translate(7.2 159.853065)scale(0.1 -0.1)\">\r\n       <use xlink:href=\"#DejaVuSans-51\"/>\r\n       <use x=\"63.623047\" xlink:href=\"#DejaVuSans-48\"/>\r\n       <use x=\"127.246094\" xlink:href=\"#DejaVuSans-48\"/>\r\n       <use x=\"190.869141\" xlink:href=\"#DejaVuSans-48\"/>\r\n       <use x=\"254.492188\" xlink:href=\"#DejaVuSans-48\"/>\r\n       <use x=\"318.115234\" xlink:href=\"#DejaVuSans-48\"/>\r\n      </g>\r\n     </g>\r\n    </g>\r\n    <g id=\"ytick_3\">\r\n     <g id=\"line2d_11\">\r\n      <g>\r\n       <use style=\"stroke:#000000;stroke-width:0.8;\" x=\"52.375\" xlink:href=\"#m5a30253f9e\" y=\"118.187304\"/>\r\n      </g>\r\n     </g>\r\n     <g id=\"text_11\">\r\n      <!-- 400000 -->\r\n      <g transform=\"translate(7.2 121.986523)scale(0.1 -0.1)\">\r\n       <defs>\r\n        <path d=\"M 37.796875 64.3125 \r\nL 12.890625 25.390625 \r\nL 37.796875 25.390625 \r\nz\r\nM 35.203125 72.90625 \r\nL 47.609375 72.90625 \r\nL 47.609375 25.390625 \r\nL 58.015625 25.390625 \r\nL 58.015625 17.1875 \r\nL 47.609375 17.1875 \r\nL 47.609375 0 \r\nL 37.796875 0 \r\nL 37.796875 17.1875 \r\nL 4.890625 17.1875 \r\nL 4.890625 26.703125 \r\nz\r\n\" id=\"DejaVuSans-52\"/>\r\n       </defs>\r\n       <use xlink:href=\"#DejaVuSans-52\"/>\r\n       <use x=\"63.623047\" xlink:href=\"#DejaVuSans-48\"/>\r\n       <use x=\"127.246094\" xlink:href=\"#DejaVuSans-48\"/>\r\n       <use x=\"190.869141\" xlink:href=\"#DejaVuSans-48\"/>\r\n       <use x=\"254.492188\" xlink:href=\"#DejaVuSans-48\"/>\r\n       <use x=\"318.115234\" xlink:href=\"#DejaVuSans-48\"/>\r\n      </g>\r\n     </g>\r\n    </g>\r\n    <g id=\"ytick_4\">\r\n     <g id=\"line2d_12\">\r\n      <g>\r\n       <use style=\"stroke:#000000;stroke-width:0.8;\" x=\"52.375\" xlink:href=\"#m5a30253f9e\" y=\"80.320762\"/>\r\n      </g>\r\n     </g>\r\n     <g id=\"text_12\">\r\n      <!-- 500000 -->\r\n      <g transform=\"translate(7.2 84.11998)scale(0.1 -0.1)\">\r\n       <use xlink:href=\"#DejaVuSans-53\"/>\r\n       <use x=\"63.623047\" xlink:href=\"#DejaVuSans-48\"/>\r\n       <use x=\"127.246094\" xlink:href=\"#DejaVuSans-48\"/>\r\n       <use x=\"190.869141\" xlink:href=\"#DejaVuSans-48\"/>\r\n       <use x=\"254.492188\" xlink:href=\"#DejaVuSans-48\"/>\r\n       <use x=\"318.115234\" xlink:href=\"#DejaVuSans-48\"/>\r\n      </g>\r\n     </g>\r\n    </g>\r\n    <g id=\"ytick_5\">\r\n     <g id=\"line2d_13\">\r\n      <g>\r\n       <use style=\"stroke:#000000;stroke-width:0.8;\" x=\"52.375\" xlink:href=\"#m5a30253f9e\" y=\"42.45422\"/>\r\n      </g>\r\n     </g>\r\n     <g id=\"text_13\">\r\n      <!-- 600000 -->\r\n      <g transform=\"translate(7.2 46.253438)scale(0.1 -0.1)\">\r\n       <defs>\r\n        <path d=\"M 33.015625 40.375 \r\nQ 26.375 40.375 22.484375 35.828125 \r\nQ 18.609375 31.296875 18.609375 23.390625 \r\nQ 18.609375 15.53125 22.484375 10.953125 \r\nQ 26.375 6.390625 33.015625 6.390625 \r\nQ 39.65625 6.390625 43.53125 10.953125 \r\nQ 47.40625 15.53125 47.40625 23.390625 \r\nQ 47.40625 31.296875 43.53125 35.828125 \r\nQ 39.65625 40.375 33.015625 40.375 \r\nz\r\nM 52.59375 71.296875 \r\nL 52.59375 62.3125 \r\nQ 48.875 64.0625 45.09375 64.984375 \r\nQ 41.3125 65.921875 37.59375 65.921875 \r\nQ 27.828125 65.921875 22.671875 59.328125 \r\nQ 17.53125 52.734375 16.796875 39.40625 \r\nQ 19.671875 43.65625 24.015625 45.921875 \r\nQ 28.375 48.1875 33.59375 48.1875 \r\nQ 44.578125 48.1875 50.953125 41.515625 \r\nQ 57.328125 34.859375 57.328125 23.390625 \r\nQ 57.328125 12.15625 50.6875 5.359375 \r\nQ 44.046875 -1.421875 33.015625 -1.421875 \r\nQ 20.359375 -1.421875 13.671875 8.265625 \r\nQ 6.984375 17.96875 6.984375 36.375 \r\nQ 6.984375 53.65625 15.1875 63.9375 \r\nQ 23.390625 74.21875 37.203125 74.21875 \r\nQ 40.921875 74.21875 44.703125 73.484375 \r\nQ 48.484375 72.75 52.59375 71.296875 \r\nz\r\n\" id=\"DejaVuSans-54\"/>\r\n       </defs>\r\n       <use xlink:href=\"#DejaVuSans-54\"/>\r\n       <use x=\"63.623047\" xlink:href=\"#DejaVuSans-48\"/>\r\n       <use x=\"127.246094\" xlink:href=\"#DejaVuSans-48\"/>\r\n       <use x=\"190.869141\" xlink:href=\"#DejaVuSans-48\"/>\r\n       <use x=\"254.492188\" xlink:href=\"#DejaVuSans-48\"/>\r\n       <use x=\"318.115234\" xlink:href=\"#DejaVuSans-48\"/>\r\n      </g>\r\n     </g>\r\n    </g>\r\n   </g>\r\n   <g id=\"line2d_14\">\r\n    <defs>\r\n     <path d=\"M 0 3 \r\nC 0.795609 3 1.55874 2.683901 2.12132 2.12132 \r\nC 2.683901 1.55874 3 0.795609 3 0 \r\nC 3 -0.795609 2.683901 -1.55874 2.12132 -2.12132 \r\nC 1.55874 -2.683901 0.795609 -3 0 -3 \r\nC -0.795609 -3 -1.55874 -2.683901 -2.12132 -2.12132 \r\nC -2.683901 -1.55874 -3 -0.795609 -3 0 \r\nC -3 0.795609 -2.683901 1.55874 -2.12132 2.12132 \r\nC -1.55874 2.683901 -0.795609 3 0 3 \r\nz\r\n\" id=\"ma7345be601\" style=\"stroke:#ff0000;\"/>\r\n    </defs>\r\n    <g clip-path=\"url(#p6f7969596f)\">\r\n     <use style=\"fill:#ff0000;stroke:#ff0000;\" x=\"168.477758\" xlink:href=\"#ma7345be601\" y=\"185.627615\"/>\r\n     <use style=\"fill:#ff0000;stroke:#ff0000;\" x=\"287.316369\" xlink:href=\"#ma7345be601\" y=\"65.931476\"/>\r\n     <use style=\"fill:#ff0000;stroke:#ff0000;\" x=\"133.424642\" xlink:href=\"#ma7345be601\" y=\"201.493697\"/>\r\n     <use style=\"fill:#ff0000;stroke:#ff0000;\" x=\"235.164173\" xlink:href=\"#ma7345be601\" y=\"40.939558\"/>\r\n     <use style=\"fill:#ff0000;stroke:#ff0000;\" x=\"211.22546\" xlink:href=\"#ma7345be601\" y=\"76.534108\"/>\r\n     <use style=\"fill:#ff0000;stroke:#ff0000;\" x=\"214.217799\" xlink:href=\"#ma7345be601\" y=\"172.147126\"/>\r\n     <use style=\"fill:#ff0000;stroke:#ff0000;\" x=\"158.218309\" xlink:href=\"#ma7345be601\" y=\"159.139969\"/>\r\n     <use style=\"fill:#ff0000;stroke:#ff0000;\" x=\"219.775\" xlink:href=\"#ma7345be601\" y=\"182.749758\"/>\r\n     <use style=\"fill:#ff0000;stroke:#ff0000;\" x=\"229.179494\" xlink:href=\"#ma7345be601\" y=\"147.344541\"/>\r\n     <use style=\"fill:#ff0000;stroke:#ff0000;\" x=\"371.956818\" xlink:href=\"#ma7345be601\" y=\"18.787631\"/>\r\n     <use style=\"fill:#ff0000;stroke:#ff0000;\" x=\"166.76785\" xlink:href=\"#ma7345be601\" y=\"92.438055\"/>\r\n     <use style=\"fill:#ff0000;stroke:#ff0000;\" x=\"189.851609\" xlink:href=\"#ma7345be601\" y=\"152.267192\"/>\r\n     <use style=\"fill:#ff0000;stroke:#ff0000;\" x=\"184.721885\" xlink:href=\"#ma7345be601\" y=\"118.187304\"/>\r\n     <use style=\"fill:#ff0000;stroke:#ff0000;\" x=\"222.339862\" xlink:href=\"#ma7345be601\" y=\"68.960799\"/>\r\n     <use style=\"fill:#ff0000;stroke:#ff0000;\" x=\"319.804622\" xlink:href=\"#ma7345be601\" y=\"23.520949\"/>\r\n     <use style=\"fill:#ff0000;stroke:#ff0000;\" x=\"229.179494\" xlink:href=\"#ma7345be601\" y=\"120.080631\"/>\r\n     <use style=\"fill:#ff0000;stroke:#ff0000;\" x=\"204.385827\" xlink:href=\"#ma7345be601\" y=\"86.000743\"/>\r\n     <use style=\"fill:#ff0000;stroke:#ff0000;\" x=\"170.187666\" xlink:href=\"#ma7345be601\" y=\"198.085708\"/>\r\n     <use style=\"fill:#ff0000;stroke:#ff0000;\" x=\"174.462436\" xlink:href=\"#ma7345be601\" y=\"182.560425\"/>\r\n     <use style=\"fill:#ff0000;stroke:#ff0000;\" x=\"206.095735\" xlink:href=\"#ma7345be601\" y=\"123.867285\"/>\r\n     <use style=\"fill:#ff0000;stroke:#ff0000;\" x=\"261.667748\" xlink:href=\"#ma7345be601\" y=\"161.733827\"/>\r\n     <use style=\"fill:#ff0000;stroke:#ff0000;\" x=\"159.073264\" xlink:href=\"#ma7345be601\" y=\"173.96472\"/>\r\n     <use style=\"fill:#ff0000;stroke:#ff0000;\" x=\"277.05692\" xlink:href=\"#ma7345be601\" y=\"145.072549\"/>\r\n     <use style=\"fill:#ff0000;stroke:#ff0000;\" x=\"213.790322\" xlink:href=\"#ma7345be601\" y=\"181.424429\"/>\r\n     <use style=\"fill:#ff0000;stroke:#ff0000;\" x=\"187.286747\" xlink:href=\"#ma7345be601\" y=\"17.083636\"/>\r\n     <use style=\"fill:#ff0000;stroke:#ff0000;\" x=\"197.546195\" xlink:href=\"#ma7345be601\" y=\"103.798018\"/>\r\n    </g>\r\n   </g>\r\n   <g id=\"line2d_15\">\r\n    <path clip-path=\"url(#p6f7969596f)\" d=\"M 67.593182 214.756364 \r\nL 73.804685 210.895908 \r\nL 80.016187 207.035452 \r\nL 86.22769 203.174996 \r\nL 92.439193 199.31454 \r\nL 98.650696 195.454084 \r\nL 104.862199 191.593628 \r\nL 111.073701 187.733172 \r\nL 117.285204 183.872716 \r\nL 123.496707 180.01226 \r\nL 129.70821 176.151804 \r\nL 135.919712 172.291349 \r\nL 142.131215 168.430893 \r\nL 148.342718 164.570437 \r\nL 154.554221 160.709981 \r\nL 160.765724 156.849525 \r\nL 166.977226 152.989069 \r\nL 173.188729 149.128613 \r\nL 179.400232 145.268157 \r\nL 185.611735 141.407701 \r\nL 191.823237 137.547245 \r\nL 198.03474 133.686789 \r\nL 204.246243 129.826333 \r\nL 210.457746 125.965877 \r\nL 216.669249 122.105422 \r\nL 222.880751 118.244966 \r\nL 229.092254 114.38451 \r\nL 235.303757 110.524054 \r\nL 241.51526 106.663598 \r\nL 247.726763 102.803142 \r\nL 253.938265 98.942686 \r\nL 260.149768 95.08223 \r\nL 266.361271 91.221774 \r\nL 272.572774 87.361318 \r\nL 278.784276 83.500862 \r\nL 284.995779 79.640406 \r\nL 291.207282 75.77995 \r\nL 297.418785 71.919495 \r\nL 303.630288 68.059039 \r\nL 309.84179 64.198583 \r\nL 316.053293 60.338127 \r\nL 322.264796 56.477671 \r\nL 328.476299 52.617215 \r\nL 334.687801 48.756759 \r\nL 340.899304 44.896303 \r\nL 347.110807 41.035847 \r\nL 353.32231 37.175391 \r\nL 359.533813 33.314935 \r\nL 365.745315 29.454479 \r\nL 371.956818 25.594023 \r\n\" style=\"fill:none;stroke:#0000ff;stroke-linecap:square;stroke-width:1.5;\"/>\r\n   </g>\r\n   <g id=\"patch_3\">\r\n    <path d=\"M 52.375 224.64 \r\nL 52.375 7.2 \r\n\" style=\"fill:none;stroke:#000000;stroke-linecap:square;stroke-linejoin:miter;stroke-width:0.8;\"/>\r\n   </g>\r\n   <g id=\"patch_4\">\r\n    <path d=\"M 387.175 224.64 \r\nL 387.175 7.2 \r\n\" style=\"fill:none;stroke:#000000;stroke-linecap:square;stroke-linejoin:miter;stroke-width:0.8;\"/>\r\n   </g>\r\n   <g id=\"patch_5\">\r\n    <path d=\"M 52.375 224.64 \r\nL 387.175 224.64 \r\n\" style=\"fill:none;stroke:#000000;stroke-linecap:square;stroke-linejoin:miter;stroke-width:0.8;\"/>\r\n   </g>\r\n   <g id=\"patch_6\">\r\n    <path d=\"M 52.375 7.2 \r\nL 387.175 7.2 \r\n\" style=\"fill:none;stroke:#000000;stroke-linecap:square;stroke-linejoin:miter;stroke-width:0.8;\"/>\r\n   </g>\r\n  </g>\r\n </g>\r\n <defs>\r\n  <clipPath id=\"p6f7969596f\">\r\n   <rect height=\"217.44\" width=\"334.8\" x=\"52.375\" y=\"7.2\"/>\r\n  </clipPath>\r\n </defs>\r\n</svg>\r\n",
      "image/png": "[encoded data removed]"
     },
     "metadata": {
      "needs_background": "light"
     }
    }
   ],
   "source": [
    "# ATENÇÃO: Não editar esta célula\n",
    "x_line = np.linspace(0, max(X))\n",
    "y_hat = b0 + b1 * x_line\n",
    "\n",
    "try:\n",
    "    plt.plot(X, Y, 'ro')\n",
    "    plt.plot(x_line, y_hat, 'b')\n",
    "except:\n",
    "    pass"
   ]
  },
  {
   "cell_type": "markdown",
   "metadata": {
    "id": "i5xi-VDSaOb0"
   },
   "source": [
    "O que você acha? O preço do imóvel pode ser aproximado com precisão baseando-se apenas na área habitável do imóvel? "
   ]
  },
  {
   "cell_type": "markdown",
   "metadata": {
    "id": "serious-apache"
   },
   "source": [
    "### Questão 3 - Regressão Linear Múltipla\n",
    "\n",
    "Como vimos na [aula](https://youtu.be/vYXuiGyjYoA?t=197), é razoavel supor que o preço de um imóvel não depende apenas de um fator, mas seria uma soma ponderada de vários fatores. Para isso usamos a regressão linear múltipla. A implementação detalhada desse algoritimo será objeto das próximas aulas, mas vamos experimentar a função do numpy que faz e avaliar a influência de alguns fatores."
   ]
  },
  {
   "cell_type": "code",
   "execution_count": 38,
   "metadata": {
    "id": "progressive-apartment",
    "outputId": "47f186f7-f43b-479b-f7ec-f49a28897e6a",
    "scrolled": true
   },
   "outputs": [
    {
     "output_type": "stream",
     "name": "stdout",
     "text": [
      "(26, 12)\n(26,)\n"
     ]
    }
   ],
   "source": [
    "# ATENÇÃO: Não editar esta célula\n",
    "X = data[:,1:] #Conjunto de variáveis que compõe o X\n",
    "b0_ones = np.ones((X.shape[0],1))\n",
    "X = np.append(b0_ones, X, axis=1)\n",
    "Y =  data[:,0]\n",
    "print(X.shape)\n",
    "print(Y.shape)"
   ]
  },
  {
   "cell_type": "markdown",
   "metadata": {
    "id": "speaking-function"
   },
   "source": [
    "|    | price    | bedrooms | bathrooms | sqft_living | sqft_lot | floors | condition | grade | sqft_above | yr_built | sqft_living15 | sqft_lot15 |\n",
    "|----|----------|----------|-----------|-------------|----------|--------|-----------|-------|------------|----------|---------------|------------|\n",
    "| 0  | 221900.0 | 3        | 1.00      | 1180        | 5650     | 1.0    | 3         | 7     | 1180       | 1955     | 1340          | 5650       |\n",
    "| 1  | 538000.0 | 3        | 2.25      | 2570        | 7242     | 2.0    | 3         | 7     | 2170       | 1951     | 1690          | 7639       |\n",
    "| 2  | 180000.0 | 2        | 1.00      | 770         | 10000    | 1.0    | 3         | 6     | 770        | 1933     | 2720          | 8062       |\n",
    "| 3  | 604000.0 | 4        | 3.00      | 1960        | 5000     | 1.0    | 5         | 7     | 1050       | 1965     | 1360          | 5000       |\n",
    "| 4  | 510000.0 | 3        | 2.00      | 1680        | 8080     | 1.0    | 3         | 8     | 1680       | 1987     | 1800          | 7503       |\n",
    "| 6  | 257500.0 | 3        | 2.25      | 1715        | 6819     | 2.0    | 3         | 7     | 1715       | 1995     | 2238          | 6819       |\n",
    "| 7  | 291850.0 | 3        | 1.50      | 1060        | 9711     | 1.0    | 3         | 7     | 1060       | 1963     | 1650          | 9711       |\n",
    "| 8  | 229500.0 | 3        | 1.00      | 1780        | 7470     | 1.0    | 3         | 7     | 1050       | 1960     | 1780          | 8113       |\n",
    "| 9  | 323000.0 | 3        | 2.50      | 1890        | 6560     | 2.0    | 3         | 7     | 1890       | 2003     | 2390          | 7570       |\n",
    "| 10 | 662500.0 | 3        | 2.50      | 3560        | 9796     | 1.0    | 3         | 8     | 1860       | 1965     | 2210          | 8925       |\n",
    "| 11 | 468000.0 | 2        | 1.00      | 1160        | 6000     | 1.0    | 4         | 7     | 860        | 1942     | 1330          | 6000       |\n",
    "| 12 | 310000.0 | 3        | 1.00      | 1430        | 19901    | 1.5    | 4         | 7     | 1430       | 1927     | 1780          | 12697      |\n",
    "| 13 | 400000.0 | 3        | 1.75      | 1370        | 9680     | 1.0    | 4         | 7     | 1370       | 1977     | 1370          | 10208      |\n",
    "| 14 | 530000.0 | 5        | 2.00      | 1810        | 4850     | 1.5    | 3         | 7     | 1810       | 1900     | 1360          | 4850       |\n",
    "| 15 | 650000.0 | 4        | 3.00      | 2950        | 5000     | 2.0    | 3         | 9     | 1980       | 1979     | 2140          | 4000       |\n",
    "| 16 | 395000.0 | 3        | 2.00      | 1890        | 14040    | 2.0    | 3         | 7     | 1890       | 1994     | 1890          | 14018      |\n",
    "| 17 | 485000.0 | 4        | 1.00      | 1600        | 4300     | 1.5    | 4         | 7     | 1600       | 1916     | 1610          | 4300       |\n",
    "| 18 | 189000.0 | 2        | 1.00      | 1200        | 9850     | 1.0    | 4         | 7     | 1200       | 1921     | 1060          | 5095       |\n",
    "| 19 | 230000.0 | 3        | 1.00      | 1250        | 9774     | 1.0    | 4         | 7     | 1250       | 1969     | 1280          | 8850       |\n",
    "| 20 | 385000.0 | 4        | 1.75      | 1620        | 4980     | 1.0    | 4         | 7     | 860        | 1947     | 1400          | 4980       |\n",
    "| 22 | 285000.0 | 5        | 2.50      | 2270        | 6300     | 2.0    | 3         | 8     | 2270       | 1995     | 2240          | 7005       |\n",
    "| 23 | 252700.0 | 2        | 1.50      | 1070        | 9643     | 1.0    | 3         | 7     | 1070       | 1985     | 1220          | 8386       |\n",
    "| 24 | 329000.0 | 3        | 2.25      | 2450        | 6500     | 2.0    | 4         | 8     | 2450       | 1985     | 2200          | 6865       |\n",
    "| 25 | 233000.0 | 3        | 2.00      | 1710        | 4697     | 1.5    | 5         | 6     | 1710       | 1941     | 1030          | 4705       |\n",
    "| 27 | 667000.0 | 3        | 1.00      | 1400        | 1581     | 1.5    | 5         | 8     | 1400       | 1909     | 1860          | 3861       |\n",
    "| 28 | 438000.0 | 3        | 1.75      | 1520        | 6380     | 1.0    | 3         | 7     | 790        | 1948     | 1520          | 6235       |"
   ]
  },
  {
   "cell_type": "markdown",
   "metadata": {
    "id": "n8QhRQK4aOb1"
   },
   "source": [
    "**3.1** Vamos então calcular os pesos da soma ponderada de cada fator da tabela de preços dos imóveis. Para isso, por enquanto, utilizaremos a função **np.linalg.lstsq** [(doc)](https://numpy.org/doc/stable/reference/generated/numpy.linalg.lstsq.html) do numpy. Esta função recebe a tabela de dados X e os valores dos preços dos imóveis. Os valores dos pesos deverão ser salvos na variável **vector_b**."
   ]
  },
  {
   "cell_type": "code",
   "execution_count": 39,
   "metadata": {
    "id": "fatal-delivery",
    "outputId": "64bc7143-270d-42e4-9df3-82b7e04638ea"
   },
   "outputs": [],
   "source": [
    "# Insira seu código aqui\n",
    "vector_b = np.linalg.lstsq(X, Y, rcond=-1)[0]"
   ]
  },
  {
   "cell_type": "markdown",
   "metadata": {
    "id": "HfzQuM_5aOb2"
   },
   "source": [
    "**3.2** Por fim, vamos estimar o preço de um imóvel segundo nosso modelo. Para isso devemos fazer a multiplicação do vetor de atributos de um imóvel pelo vetor de pesos obtidos pela regressão linear. A formula é a seguinte: \n",
    "\n",
    "$$y_i =  \\textbf{X}_i  \\textbf{b} $$\n",
    "\n",
    "Aplique a formula acima e obtenha as estimativas dos preços dos imóveis com indices 0, 1 e 2. Salve nas variáveis **preco_0**, **preco_1** e **preco_2** respectivamente."
   ]
  },
  {
   "cell_type": "code",
   "execution_count": 40,
   "metadata": {
    "id": "IcCoqox5aOb2",
    "outputId": "76721ceb-1aa7-46c0-83a3-0108ba6bd895"
   },
   "outputs": [],
   "source": [
    "# Insira seu código aqui\n",
    "preco_0 = X[0] @ vector_b\n",
    "preco_1 = X[1] @ vector_b\n",
    "preco_2 = X[2] @ vector_b\n"
   ]
  },
  {
   "cell_type": "code",
   "execution_count": null,
   "metadata": {
    "id": "YEc7nL3HaOb2"
   },
   "outputs": [],
   "source": []
  },
  {
   "cell_type": "code",
   "execution_count": null,
   "metadata": {},
   "outputs": [],
   "source": []
  }
 ],
 "metadata": {
  "colab": {
   "collapsed_sections": [],
   "name": "EP4.ipynb",
   "provenance": []
  },
  "kernelspec": {
   "display_name": "Python 3",
   "language": "python",
   "name": "python3"
  },
  "language_info": {
   "codemirror_mode": {
    "name": "ipython",
    "version": 3
   },
   "file_extension": ".py",
   "mimetype": "text/x-python",
   "name": "python",
   "nbconvert_exporter": "python",
   "pygments_lexer": "ipython3",
   "version": "3.9.1-final"
  }
 },
 "nbformat": 4,
 "nbformat_minor": 5
}